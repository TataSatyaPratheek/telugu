{
 "cells": [
  {
   "cell_type": "code",
   "execution_count": 1,
   "id": "1157d661",
   "metadata": {},
   "outputs": [],
   "source": [
    "# Telugu Timeline — Proto-Dravidian to Present\n",
    "# Requirements: pip install plotly pandas numpy \n",
    "\n",
    "import plotly.graph_objects as go\n",
    "import pandas as pd\n",
    "import numpy as np"
   ]
  },
  {
   "cell_type": "code",
   "execution_count": 2,
   "id": "15fd1f87",
   "metadata": {},
   "outputs": [],
   "source": [
    "# Timeline data: each item includes period, numeric year for ordering (BCE negative),\n",
    "# event title, category, evidence, a succinct description, and detailed references with in-text citations.\n",
    "events = [\n",
    "    {\n",
    "        \"period\": \"~4500 BCE (2500 BCE)\",\n",
    "        \"year\": -2500,\n",
    "        \"title\": \"Proto-Dravidian period\",\n",
    "        \"category\": \"Linguistics\",\n",
    "        \"evidence\": \"Bayesian phylogenetics; comparative-historical linguistics\",\n",
    "        \"desc\": \"Proto-Dravidian dated to ~4,500 years before present; linguistic reconstruction anchors Dravidian family origins.\",\n",
    "        \"refs\": \"[web:240][web:251][web:187][web:184]\"\n",
    "    },\n",
    "    {\n",
    "        \"period\": \"~3000–2500 BCE\",\n",
    "        \"year\": -2750,\n",
    "        \"title\": \"Proto-Dravidian homeland context\",\n",
    "        \"category\": \"Archaeology\",\n",
    "        \"evidence\": \"Archaeolinguistics; cultural lexicon (agriculture, metallurgy, ecology)\",\n",
    "        \"desc\": \"Lexical reconstructions imply Southern Neolithic cultural ecology in peninsular India.\",\n",
    "        \"refs\": \"[web:184][web:187]\"\n",
    "    },\n",
    "    {\n",
    "        \"period\": \"1500–1000 BCE\",\n",
    "        \"year\": -1250,\n",
    "        \"title\": \"Telugu splits from Proto-Dravidian\",\n",
    "        \"category\": \"Linguistics\",\n",
    "        \"evidence\": \"Comparative phonological reconstruction; family tree topology\",\n",
    "        \"desc\": \"Telugu diverges as South-Central Dravidian branch, distinct from Tamil branch.\",\n",
    "        \"refs\": \"[web:240][web:251]\"\n",
    "    },\n",
    "    {\n",
    "        \"period\": \"~1100 BCE\",\n",
    "        \"year\": -1100,\n",
    "        \"title\": \"South Dravidian I–II split\",\n",
    "        \"category\": \"Linguistics\",\n",
    "        \"evidence\": \"Phylogenetic dating; subgroup innovations\",\n",
    "        \"desc\": \"South Dravidian split (~1100 BCE) separates Telugu lineage from South Dravidian I (e.g., Tamil).\",\n",
    "        \"refs\": \"[web:240][web:251]\"\n",
    "    },\n",
    "    {\n",
    "        \"period\": \"~400–200 BCE\",\n",
    "        \"year\": -300,\n",
    "        \"title\": \"Earliest Telugu lexemes in inscriptions\",\n",
    "        \"category\": \"Epigraphy\",\n",
    "        \"evidence\": \"Bhattiprolu casket inscriptions; paleographic analysis\",\n",
    "        \"desc\": \"Prakrit inscriptions in the Andhra region include Telugu words; Dravidian-oriented letter forms emerge.\",\n",
    "        \"refs\": \"[web:179][web:183][web:18][web:69]\"\n",
    "    },\n",
    "    {\n",
    "        \"period\": \"~257 BCE\",\n",
    "        \"year\": -257,\n",
    "        \"title\": \"Andhra in Mauryan period\",\n",
    "        \"category\": \"History\",\n",
    "        \"evidence\": \"Classical references; regional historiography\",\n",
    "        \"desc\": \"‘Andhra’ appears as a regional-linguistic identity during/near Mauryan horizons.\",\n",
    "        \"refs\": \"[web:184][web:190]\"\n",
    "    },\n",
    "    {\n",
    "        \"period\": \"3rd–1st c. BCE\",\n",
    "        \"year\": -150,\n",
    "        \"title\": \"Bhattiprolu script innovations\",\n",
    "        \"category\": \"Script\",\n",
    "        \"evidence\": \"Paleography; structural features (inherent vowel discarded; distinct glyphs)\",\n",
    "        \"desc\": \"Brahmi variant adapted for Dravidian phonology; inscriptions are in Prakrit though letterforms suit Dravidian.\",\n",
    "        \"refs\": \"[web:2][web:18][web:69]\"\n",
    "    },\n",
    "    {\n",
    "        \"period\": \"2nd c. BCE–3rd c. CE\",\n",
    "        \"year\": 0,\n",
    "        \"title\": \"Tamil-Brahmi contemporaneity\",\n",
    "        \"category\": \"Script\",\n",
    "        \"evidence\": \"Southern Brahmi adaptations; Dravidian morphophonology in script\",\n",
    "        \"desc\": \"Parallel southern Brahmi stream evidences Dravidian-motivated orthographic reforms.\",\n",
    "        \"refs\": \"[web:137]\"\n",
    "    },\n",
    "    {\n",
    "        \"period\": \"~110 BCE–220 CE\",\n",
    "        \"year\": 50,\n",
    "        \"title\": \"Satavahana (Andhra) horizon\",\n",
    "        \"category\": \"History\",\n",
    "        \"evidence\": \"Epigraphy and coinage; Purāṇic notice\",\n",
    "        \"desc\": \"Satavahanas identified as ‘Andhra’; inscriptions largely in Prakrit amidst Telugu-speaking substrate.\",\n",
    "        \"refs\": \"[web:305][web:308][web:310]\"\n",
    "    },\n",
    "    {\n",
    "        \"period\": \"~250 CE\",\n",
    "        \"year\": 250,\n",
    "        \"title\": \"First inscriptional Telugu word\",\n",
    "        \"category\": \"Epigraphy\",\n",
    "        \"evidence\": \"Nagarjunakonda/Amaravati sphere; lexeme ‘Nagabu’ attested\",\n",
    "        \"desc\": \"Early Telugu lexeme in stone records marks transition to identifiable Telugu within inscriptions.\",\n",
    "        \"refs\": \"[web:188][web:315]\"\n",
    "    },\n",
    "    {\n",
    "        \"period\": \"450–500 CE\",\n",
    "        \"year\": 475,\n",
    "        \"title\": \"Halmidi inscription (Kannada)\",\n",
    "        \"category\": \"Epigraphy\",\n",
    "        \"evidence\": \"Kadamba script; earliest Kannada-language epigraph\",\n",
    "        \"desc\": \"Demonstrates the early South-Western script continuum related to later Telugu-Kannada developments.\",\n",
    "        \"refs\": \"[web:103][web:105][web:109]\"\n",
    "    },\n",
    "    {\n",
    "        \"period\": \"575 CE\",\n",
    "        \"year\": 575,\n",
    "        \"title\": \"First complete Telugu inscription\",\n",
    "        \"category\": \"Epigraphy\",\n",
    "        \"evidence\": \"Renati Chola records (Kadapa region)\",\n",
    "        \"desc\": \"Telugu becomes an administrative inscriptional language with full syntactic deployment.\",\n",
    "        \"refs\": \"[web:104][web:180][web:188][web:110]\"\n",
    "    },\n",
    "    {\n",
    "        \"period\": \"~633 CE\",\n",
    "        \"year\": 633,\n",
    "        \"title\": \"First coastal Andhra Telugu epigraph\",\n",
    "        \"category\": \"Epigraphy\",\n",
    "        \"evidence\": \"Early Āndhradeśa corpus survey\",\n",
    "        \"desc\": \"Geographical expansion of written Telugu into coastal tracts is epigraphically visible.\",\n",
    "        \"refs\": \"[web:183]\"\n",
    "    },\n",
    "    {\n",
    "        \"period\": \"660 CE\",\n",
    "        \"year\": 660,\n",
    "        \"title\": \"Earliest Telugu alphabet usage\",\n",
    "        \"category\": \"Script\",\n",
    "        \"evidence\": \"Vikramaditya I inscription; Sanskrit in Telugu-Kannada script\",\n",
    "        \"desc\": \"Shows early deployment of Telugu-Kannada glyph forms for writing non-Telugu language content.\",\n",
    "        \"refs\": \"[web:186]\"\n",
    "    },\n",
    "    {\n",
    "        \"period\": \"7th–11th c. CE\",\n",
    "        \"year\": 900,\n",
    "        \"title\": \"Telugu–Kannada unified script\",\n",
    "        \"category\": \"Script\",\n",
    "        \"evidence\": \"Kadamba → Telugu-Kannada continuum; Eastern Chalukya diffusion\",\n",
    "        \"desc\": \"Shared akshara system serves both languages for several centuries before stylistic divergence.\",\n",
    "        \"refs\": \"[web:21][web:42][web:49][web:85]\"\n",
    "    },\n",
    "    {\n",
    "        \"period\": \"1054–1061 CE\",\n",
    "        \"year\": 1058,\n",
    "        \"title\": \"Nannaya’s Andhra Mahabharatam\",\n",
    "        \"category\": \"Literature\",\n",
    "        \"evidence\": \"Court patronage (Raja Raja Narendra); early champu style\",\n",
    "        \"desc\": \"Adi Kavi Nannaya inaugurates classical Telugu literature and codifies literary register.\",\n",
    "        \"refs\": \"[web:215][web:222][web:224][web:212]\"\n",
    "    },\n",
    "    {\n",
    "        \"period\": \"1100–1400 CE\",\n",
    "        \"year\": 1250,\n",
    "        \"title\": \"Separation of Telugu & Kannada scripts\",\n",
    "        \"category\": \"Script\",\n",
    "        \"evidence\": \"Paleographic drift; regional styles\",\n",
    "        \"desc\": \"Unified Telugu–Kannada script differentiates into distinct modern trajectories over three centuries.\",\n",
    "        \"refs\": \"[web:21][web:85][web:87]\"\n",
    "    },\n",
    "    {\n",
    "        \"period\": \"1205–1288 CE\",\n",
    "        \"year\": 1250,\n",
    "        \"title\": \"Tikkana continues Mahabharatam\",\n",
    "        \"category\": \"Literature\",\n",
    "        \"evidence\": \"Kakatiya-era literary expansion; Ubhaya Kavi Mitrudu\",\n",
    "        \"desc\": \"Translates 15 later parvas, sustaining high classical style and literary continuity.\",\n",
    "        \"refs\": \"[web:213][web:216][web:219]\"\n",
    "    },\n",
    "    {\n",
    "        \"period\": \"14th c. CE\",\n",
    "        \"year\": 1350,\n",
    "        \"title\": \"Errana completes Mahabharatam\",\n",
    "        \"category\": \"Literature\",\n",
    "        \"evidence\": \"Completion of Aranya Parvam remainder\",\n",
    "        \"desc\": \"Kavitrayam’s 300-year project defines Telugu classicism and autonomous literary identity.\",\n",
    "        \"refs\": \"[web:222]\"\n",
    "    },\n",
    "    {\n",
    "        \"period\": \"15th–16th c. CE\",\n",
    "        \"year\": 1525,\n",
    "        \"title\": \"Vijayanagara classical efflorescence\",\n",
    "        \"category\": \"Literature\",\n",
    "        \"evidence\": \"Ashtadiggajas; Peddana’s Manucharitramu\",\n",
    "        \"desc\": \"Telugu reaches classical zenith at imperial court with ornate prabandha tradition.\",\n",
    "        \"refs\": \"[web:220][web:214][web:226]\"\n",
    "    },\n",
    "    {\n",
    "        \"period\": \"1806–1862 CE\",\n",
    "        \"year\": 1834,\n",
    "        \"title\": \"Paravastu Chinnayasuri, Bala Vyakaranamu\",\n",
    "        \"category\": \"Grammar\",\n",
    "        \"evidence\": \"Paninian framing of Telugu; prescriptive codification\",\n",
    "        \"desc\": \"Standardizes Grandhika register and pedagogy; entrenches diglossia with Vyavaharika.\",\n",
    "        \"refs\": \"[web:247][web:253][web:250]\"\n",
    "    },\n",
    "    {\n",
    "        \"period\": \"1840s–1880s\",\n",
    "        \"year\": 1865,\n",
    "        \"title\": \"C. P. Brown’s Telugu renaissance\",\n",
    "        \"category\": \"Lexicography\",\n",
    "        \"evidence\": \"Dictionaries; manuscript rescue; critical editions\",\n",
    "        \"desc\": \"Systematic preservation and lexicographic standards prevent severe loss of classical corpus.\",\n",
    "        \"refs\": \"[web:276][web:285][web:288]\"\n",
    "    },\n",
    "    {\n",
    "        \"period\": \"1848–1919\",\n",
    "        \"year\": 1885,\n",
    "        \"title\": \"Kandukuri Veeresalingam’s reform\",\n",
    "        \"category\": \"Modernity\",\n",
    "        \"evidence\": \"First Telugu novel; widow remarriage; journals\",\n",
    "        \"desc\": \"Harnesses Telugu for social reform, women’s education, and modern prose.\",\n",
    "        \"refs\": \"[web:277][web:283][web:289][web:274]\"\n",
    "    },\n",
    "    {\n",
    "        \"period\": \"1858\",\n",
    "        \"year\": 1858,\n",
    "        \"title\": \"Bala Vyakaranamu in schools\",\n",
    "        \"category\": \"Grammar\",\n",
    "        \"evidence\": \"Educational standardization of prescriptive grammar\",\n",
    "        \"desc\": \"Codified norms pervade curricula, shaping prose and formal instruction.\",\n",
    "        \"refs\": \"[web:250][web:247]\"\n",
    "    },\n",
    "    {\n",
    "        \"period\": \"1863–1940\",\n",
    "        \"year\": 1900,\n",
    "        \"title\": \"Gidugu Venkata Ramamurthy’s Vyavaharika\",\n",
    "        \"category\": \"Linguistics\",\n",
    "        \"evidence\": \"Colloquial advocacy; Savara linguistics\",\n",
    "        \"desc\": \"Establishes linguistic democracy prioritizing spoken Telugu; August 29 observed as Telugu Language Day.\",\n",
    "        \"refs\": \"[web:252][web:246][web:249][web:255]\"\n",
    "    },\n",
    "    {\n",
    "        \"period\": \"1895–1976\",\n",
    "        \"year\": 1935,\n",
    "        \"title\": \"Viswanatha Satyanarayana, Kavi Samraat\",\n",
    "        \"category\": \"Literature\",\n",
    "        \"evidence\": \"Jnanpith 1970; classical meters in modern oeuvre\",\n",
    "        \"desc\": \"Demonstrates modern classical mastery with vast, genre-spanning contributions.\",\n",
    "        \"refs\": \"[web:278][web:272][web:284]\"\n",
    "    },\n",
    "    {\n",
    "        \"period\": \"1928–2012\",\n",
    "        \"year\": 1970,\n",
    "        \"title\": \"Bhadriraju Krishnamurti’s Dravidian linguistics\",\n",
    "        \"category\": \"Linguistics\",\n",
    "        \"evidence\": \"Telugu Verbal Bases (1961); The Dravidian Languages (2003)\",\n",
    "        \"desc\": \"Indigenous scholar synthesizes insider knowledge with rigorous comparative method.\",\n",
    "        \"refs\": \"[web:245][web:251][web:263][web:232]\"\n",
    "    },\n",
    "    {\n",
    "        \"period\": \"2003\",\n",
    "        \"year\": 2003,\n",
    "        \"title\": \"The Dravidian Languages (Cambridge)\",\n",
    "        \"category\": \"Linguistics\",\n",
    "        \"evidence\": \"Comprehensive synthesis; standard reference\",\n",
    "        \"desc\": \"Definitive framework for Dravidian comparative linguistics and Telugu’s place within it.\",\n",
    "        \"refs\": \"[web:251][web:263]\"\n",
    "    },\n",
    "    {\n",
    "        \"period\": \"2004\",\n",
    "        \"year\": 2004,\n",
    "        \"title\": \"Classical language policy begins\",\n",
    "        \"category\": \"Policy\",\n",
    "        \"evidence\": \"Government criteria; expert committee\",\n",
    "        \"desc\": \"Criteria codified for classical status; Tamil designated first under policy.\",\n",
    "        \"refs\": \"[web:309][web:312]\"\n",
    "    },\n",
    "    {\n",
    "        \"period\": \"2008\",\n",
    "        \"year\": 2008,\n",
    "        \"title\": \"Telugu recognized as Classical Language\",\n",
    "        \"category\": \"Policy\",\n",
    "        \"evidence\": \"Government notification; legal scrutiny later upheld\",\n",
    "        \"desc\": \"Documentation on antiquity, independent literature, and continuity secures classical status.\",\n",
    "        \"refs\": \"[web:307][web:309][web:312][web:314]\"\n",
    "    },\n",
    "]\n",
    "\n"
   ]
  },
  {
   "cell_type": "code",
   "execution_count": 3,
   "id": "0ad77c06",
   "metadata": {},
   "outputs": [],
   "source": [
    "\n",
    "df = pd.DataFrame(events)\n",
    "\n",
    "# Category colors\n",
    "category_colors = {\n",
    "    \"Linguistics\": \"#3949ab\",\n",
    "    \"Archaeology\": \"#5e35b1\",\n",
    "    \"Epigraphy\": \"#00897b\",\n",
    "    \"Script\": \"#1e88e5\",\n",
    "    \"History\": \"#6d4c41\",\n",
    "    \"Literature\": \"#c2185b\",\n",
    "    \"Grammar\": \"#8e24aa\",\n",
    "    \"Lexicography\": \"#039be5\",\n",
    "    \"Modernity\": \"#fb8c00\",\n",
    "    \"Policy\": \"#7cb342\"\n",
    "}\n",
    "df[\"color\"] = df[\"category\"].map(category_colors)\n",
    "\n",
    "# ✅ PERFECT EVEN SPACING - The key fix!\n",
    "n_events = len(df)\n",
    "df[\"y_pos\"] = np.linspace(0, 1, n_events)  # Simple linear distribution\n",
    "\n",
    "# Alternate left/right positioning\n",
    "df[\"side\"] = [(-1)**i for i in range(n_events)]\n",
    "df[\"x_pos\"] = 0.5\n",
    "df[\"x_label\"] = 0.5 + df[\"side\"] * 0.35\n",
    "\n"
   ]
  },
  {
   "cell_type": "code",
   "execution_count": 4,
   "id": "eb9b6efc",
   "metadata": {},
   "outputs": [
    {
     "data": {
      "application/vnd.plotly.v1+json": {
       "config": {
        "plotlyServerURL": "https://plot.ly"
       },
       "data": [
        {
         "hoverinfo": "skip",
         "line": {
          "color": "#546e7a",
          "width": 4
         },
         "mode": "lines",
         "showlegend": false,
         "type": "scatter",
         "x": [
          0.5,
          0.5
         ],
         "y": [
          0,
          1
         ]
        }
       ],
       "layout": {
        "template": {
         "data": {
          "bar": [
           {
            "error_x": {
             "color": "#2a3f5f"
            },
            "error_y": {
             "color": "#2a3f5f"
            },
            "marker": {
             "line": {
              "color": "#E5ECF6",
              "width": 0.5
             },
             "pattern": {
              "fillmode": "overlay",
              "size": 10,
              "solidity": 0.2
             }
            },
            "type": "bar"
           }
          ],
          "barpolar": [
           {
            "marker": {
             "line": {
              "color": "#E5ECF6",
              "width": 0.5
             },
             "pattern": {
              "fillmode": "overlay",
              "size": 10,
              "solidity": 0.2
             }
            },
            "type": "barpolar"
           }
          ],
          "carpet": [
           {
            "aaxis": {
             "endlinecolor": "#2a3f5f",
             "gridcolor": "white",
             "linecolor": "white",
             "minorgridcolor": "white",
             "startlinecolor": "#2a3f5f"
            },
            "baxis": {
             "endlinecolor": "#2a3f5f",
             "gridcolor": "white",
             "linecolor": "white",
             "minorgridcolor": "white",
             "startlinecolor": "#2a3f5f"
            },
            "type": "carpet"
           }
          ],
          "choropleth": [
           {
            "colorbar": {
             "outlinewidth": 0,
             "ticks": ""
            },
            "type": "choropleth"
           }
          ],
          "contour": [
           {
            "colorbar": {
             "outlinewidth": 0,
             "ticks": ""
            },
            "colorscale": [
             [
              0,
              "#0d0887"
             ],
             [
              0.1111111111111111,
              "#46039f"
             ],
             [
              0.2222222222222222,
              "#7201a8"
             ],
             [
              0.3333333333333333,
              "#9c179e"
             ],
             [
              0.4444444444444444,
              "#bd3786"
             ],
             [
              0.5555555555555556,
              "#d8576b"
             ],
             [
              0.6666666666666666,
              "#ed7953"
             ],
             [
              0.7777777777777778,
              "#fb9f3a"
             ],
             [
              0.8888888888888888,
              "#fdca26"
             ],
             [
              1,
              "#f0f921"
             ]
            ],
            "type": "contour"
           }
          ],
          "contourcarpet": [
           {
            "colorbar": {
             "outlinewidth": 0,
             "ticks": ""
            },
            "type": "contourcarpet"
           }
          ],
          "heatmap": [
           {
            "colorbar": {
             "outlinewidth": 0,
             "ticks": ""
            },
            "colorscale": [
             [
              0,
              "#0d0887"
             ],
             [
              0.1111111111111111,
              "#46039f"
             ],
             [
              0.2222222222222222,
              "#7201a8"
             ],
             [
              0.3333333333333333,
              "#9c179e"
             ],
             [
              0.4444444444444444,
              "#bd3786"
             ],
             [
              0.5555555555555556,
              "#d8576b"
             ],
             [
              0.6666666666666666,
              "#ed7953"
             ],
             [
              0.7777777777777778,
              "#fb9f3a"
             ],
             [
              0.8888888888888888,
              "#fdca26"
             ],
             [
              1,
              "#f0f921"
             ]
            ],
            "type": "heatmap"
           }
          ],
          "histogram": [
           {
            "marker": {
             "pattern": {
              "fillmode": "overlay",
              "size": 10,
              "solidity": 0.2
             }
            },
            "type": "histogram"
           }
          ],
          "histogram2d": [
           {
            "colorbar": {
             "outlinewidth": 0,
             "ticks": ""
            },
            "colorscale": [
             [
              0,
              "#0d0887"
             ],
             [
              0.1111111111111111,
              "#46039f"
             ],
             [
              0.2222222222222222,
              "#7201a8"
             ],
             [
              0.3333333333333333,
              "#9c179e"
             ],
             [
              0.4444444444444444,
              "#bd3786"
             ],
             [
              0.5555555555555556,
              "#d8576b"
             ],
             [
              0.6666666666666666,
              "#ed7953"
             ],
             [
              0.7777777777777778,
              "#fb9f3a"
             ],
             [
              0.8888888888888888,
              "#fdca26"
             ],
             [
              1,
              "#f0f921"
             ]
            ],
            "type": "histogram2d"
           }
          ],
          "histogram2dcontour": [
           {
            "colorbar": {
             "outlinewidth": 0,
             "ticks": ""
            },
            "colorscale": [
             [
              0,
              "#0d0887"
             ],
             [
              0.1111111111111111,
              "#46039f"
             ],
             [
              0.2222222222222222,
              "#7201a8"
             ],
             [
              0.3333333333333333,
              "#9c179e"
             ],
             [
              0.4444444444444444,
              "#bd3786"
             ],
             [
              0.5555555555555556,
              "#d8576b"
             ],
             [
              0.6666666666666666,
              "#ed7953"
             ],
             [
              0.7777777777777778,
              "#fb9f3a"
             ],
             [
              0.8888888888888888,
              "#fdca26"
             ],
             [
              1,
              "#f0f921"
             ]
            ],
            "type": "histogram2dcontour"
           }
          ],
          "mesh3d": [
           {
            "colorbar": {
             "outlinewidth": 0,
             "ticks": ""
            },
            "type": "mesh3d"
           }
          ],
          "parcoords": [
           {
            "line": {
             "colorbar": {
              "outlinewidth": 0,
              "ticks": ""
             }
            },
            "type": "parcoords"
           }
          ],
          "pie": [
           {
            "automargin": true,
            "type": "pie"
           }
          ],
          "scatter": [
           {
            "fillpattern": {
             "fillmode": "overlay",
             "size": 10,
             "solidity": 0.2
            },
            "type": "scatter"
           }
          ],
          "scatter3d": [
           {
            "line": {
             "colorbar": {
              "outlinewidth": 0,
              "ticks": ""
             }
            },
            "marker": {
             "colorbar": {
              "outlinewidth": 0,
              "ticks": ""
             }
            },
            "type": "scatter3d"
           }
          ],
          "scattercarpet": [
           {
            "marker": {
             "colorbar": {
              "outlinewidth": 0,
              "ticks": ""
             }
            },
            "type": "scattercarpet"
           }
          ],
          "scattergeo": [
           {
            "marker": {
             "colorbar": {
              "outlinewidth": 0,
              "ticks": ""
             }
            },
            "type": "scattergeo"
           }
          ],
          "scattergl": [
           {
            "marker": {
             "colorbar": {
              "outlinewidth": 0,
              "ticks": ""
             }
            },
            "type": "scattergl"
           }
          ],
          "scattermap": [
           {
            "marker": {
             "colorbar": {
              "outlinewidth": 0,
              "ticks": ""
             }
            },
            "type": "scattermap"
           }
          ],
          "scattermapbox": [
           {
            "marker": {
             "colorbar": {
              "outlinewidth": 0,
              "ticks": ""
             }
            },
            "type": "scattermapbox"
           }
          ],
          "scatterpolar": [
           {
            "marker": {
             "colorbar": {
              "outlinewidth": 0,
              "ticks": ""
             }
            },
            "type": "scatterpolar"
           }
          ],
          "scatterpolargl": [
           {
            "marker": {
             "colorbar": {
              "outlinewidth": 0,
              "ticks": ""
             }
            },
            "type": "scatterpolargl"
           }
          ],
          "scatterternary": [
           {
            "marker": {
             "colorbar": {
              "outlinewidth": 0,
              "ticks": ""
             }
            },
            "type": "scatterternary"
           }
          ],
          "surface": [
           {
            "colorbar": {
             "outlinewidth": 0,
             "ticks": ""
            },
            "colorscale": [
             [
              0,
              "#0d0887"
             ],
             [
              0.1111111111111111,
              "#46039f"
             ],
             [
              0.2222222222222222,
              "#7201a8"
             ],
             [
              0.3333333333333333,
              "#9c179e"
             ],
             [
              0.4444444444444444,
              "#bd3786"
             ],
             [
              0.5555555555555556,
              "#d8576b"
             ],
             [
              0.6666666666666666,
              "#ed7953"
             ],
             [
              0.7777777777777778,
              "#fb9f3a"
             ],
             [
              0.8888888888888888,
              "#fdca26"
             ],
             [
              1,
              "#f0f921"
             ]
            ],
            "type": "surface"
           }
          ],
          "table": [
           {
            "cells": {
             "fill": {
              "color": "#EBF0F8"
             },
             "line": {
              "color": "white"
             }
            },
            "header": {
             "fill": {
              "color": "#C8D4E3"
             },
             "line": {
              "color": "white"
             }
            },
            "type": "table"
           }
          ]
         },
         "layout": {
          "annotationdefaults": {
           "arrowcolor": "#2a3f5f",
           "arrowhead": 0,
           "arrowwidth": 1
          },
          "autotypenumbers": "strict",
          "coloraxis": {
           "colorbar": {
            "outlinewidth": 0,
            "ticks": ""
           }
          },
          "colorscale": {
           "diverging": [
            [
             0,
             "#8e0152"
            ],
            [
             0.1,
             "#c51b7d"
            ],
            [
             0.2,
             "#de77ae"
            ],
            [
             0.3,
             "#f1b6da"
            ],
            [
             0.4,
             "#fde0ef"
            ],
            [
             0.5,
             "#f7f7f7"
            ],
            [
             0.6,
             "#e6f5d0"
            ],
            [
             0.7,
             "#b8e186"
            ],
            [
             0.8,
             "#7fbc41"
            ],
            [
             0.9,
             "#4d9221"
            ],
            [
             1,
             "#276419"
            ]
           ],
           "sequential": [
            [
             0,
             "#0d0887"
            ],
            [
             0.1111111111111111,
             "#46039f"
            ],
            [
             0.2222222222222222,
             "#7201a8"
            ],
            [
             0.3333333333333333,
             "#9c179e"
            ],
            [
             0.4444444444444444,
             "#bd3786"
            ],
            [
             0.5555555555555556,
             "#d8576b"
            ],
            [
             0.6666666666666666,
             "#ed7953"
            ],
            [
             0.7777777777777778,
             "#fb9f3a"
            ],
            [
             0.8888888888888888,
             "#fdca26"
            ],
            [
             1,
             "#f0f921"
            ]
           ],
           "sequentialminus": [
            [
             0,
             "#0d0887"
            ],
            [
             0.1111111111111111,
             "#46039f"
            ],
            [
             0.2222222222222222,
             "#7201a8"
            ],
            [
             0.3333333333333333,
             "#9c179e"
            ],
            [
             0.4444444444444444,
             "#bd3786"
            ],
            [
             0.5555555555555556,
             "#d8576b"
            ],
            [
             0.6666666666666666,
             "#ed7953"
            ],
            [
             0.7777777777777778,
             "#fb9f3a"
            ],
            [
             0.8888888888888888,
             "#fdca26"
            ],
            [
             1,
             "#f0f921"
            ]
           ]
          },
          "colorway": [
           "#636efa",
           "#EF553B",
           "#00cc96",
           "#ab63fa",
           "#FFA15A",
           "#19d3f3",
           "#FF6692",
           "#B6E880",
           "#FF97FF",
           "#FECB52"
          ],
          "font": {
           "color": "#2a3f5f"
          },
          "geo": {
           "bgcolor": "white",
           "lakecolor": "white",
           "landcolor": "#E5ECF6",
           "showlakes": true,
           "showland": true,
           "subunitcolor": "white"
          },
          "hoverlabel": {
           "align": "left"
          },
          "hovermode": "closest",
          "mapbox": {
           "style": "light"
          },
          "paper_bgcolor": "white",
          "plot_bgcolor": "#E5ECF6",
          "polar": {
           "angularaxis": {
            "gridcolor": "white",
            "linecolor": "white",
            "ticks": ""
           },
           "bgcolor": "#E5ECF6",
           "radialaxis": {
            "gridcolor": "white",
            "linecolor": "white",
            "ticks": ""
           }
          },
          "scene": {
           "xaxis": {
            "backgroundcolor": "#E5ECF6",
            "gridcolor": "white",
            "gridwidth": 2,
            "linecolor": "white",
            "showbackground": true,
            "ticks": "",
            "zerolinecolor": "white"
           },
           "yaxis": {
            "backgroundcolor": "#E5ECF6",
            "gridcolor": "white",
            "gridwidth": 2,
            "linecolor": "white",
            "showbackground": true,
            "ticks": "",
            "zerolinecolor": "white"
           },
           "zaxis": {
            "backgroundcolor": "#E5ECF6",
            "gridcolor": "white",
            "gridwidth": 2,
            "linecolor": "white",
            "showbackground": true,
            "ticks": "",
            "zerolinecolor": "white"
           }
          },
          "shapedefaults": {
           "line": {
            "color": "#2a3f5f"
           }
          },
          "ternary": {
           "aaxis": {
            "gridcolor": "white",
            "linecolor": "white",
            "ticks": ""
           },
           "baxis": {
            "gridcolor": "white",
            "linecolor": "white",
            "ticks": ""
           },
           "bgcolor": "#E5ECF6",
           "caxis": {
            "gridcolor": "white",
            "linecolor": "white",
            "ticks": ""
           }
          },
          "title": {
           "x": 0.05
          },
          "xaxis": {
           "automargin": true,
           "gridcolor": "white",
           "linecolor": "white",
           "ticks": "",
           "title": {
            "standoff": 15
           },
           "zerolinecolor": "white",
           "zerolinewidth": 2
          },
          "yaxis": {
           "automargin": true,
           "gridcolor": "white",
           "linecolor": "white",
           "ticks": "",
           "title": {
            "standoff": 15
           },
           "zerolinecolor": "white",
           "zerolinewidth": 2
          }
         }
        }
       }
      }
     },
     "metadata": {},
     "output_type": "display_data"
    }
   ],
   "source": [
    "# DETAILED hover text (shows ONLY on hover)\n",
    "def create_hover_text(row):\n",
    "    return (f\"<b>{row['title']}</b><br>\"\n",
    "            f\"<b>Period:</b> {row['period']}<br>\"\n",
    "            f\"<b>Category:</b> {row['category']}<br><br>\"\n",
    "            f\"<b>Evidence:</b><br>{row['evidence']}<br><br>\"\n",
    "            f\"<b>Description:</b><br>{row['desc']}<br><br>\"\n",
    "            f\"<b>References:</b> {row['refs']}\")\n",
    "\n",
    "df[\"hover_text\"] = df.apply(create_hover_text, axis=1)\n",
    "df[\"display_text\"] = df.apply(lambda r: f\"<b>{r['title']}</b><br>{r['period']}\", axis=1)\n",
    "\n",
    "# Build figure\n",
    "fig = go.Figure()\n",
    "\n",
    "# 1. Central timeline spine\n",
    "fig.add_trace(go.Scatter(\n",
    "    x=[0.5, 0.5], y=[0, 1],\n",
    "    mode='lines',\n",
    "    line=dict(color='#546e7a', width=4),\n",
    "    hoverinfo='skip',\n",
    "    showlegend=False\n",
    "))\n",
    "\n"
   ]
  },
  {
   "cell_type": "code",
   "execution_count": 5,
   "id": "195115c1",
   "metadata": {},
   "outputs": [],
   "source": [
    "# 2. Era background shading\n",
    "shapes = []\n",
    "era_bands = [\n",
    "    {\"y0\": 0, \"y1\": 0.3, \"color\": \"rgba(94,53,177,0.05)\"},\n",
    "    {\"y0\": 0.3, \"y1\": 0.65, \"color\": \"rgba(0,137,123,0.05)\"},\n",
    "    {\"y0\": 0.65, \"y1\": 0.85, \"color\": \"rgba(194,24,91,0.05)\"},\n",
    "    {\"y0\": 0.85, \"y1\": 1.0, \"color\": \"rgba(251,140,0,0.05)\"}\n",
    "]\n",
    "for band in era_bands:\n",
    "    shapes.append(dict(\n",
    "        type=\"rect\", xref=\"paper\", yref=\"y\",\n",
    "        x0=0, x1=1, y0=band[\"y0\"], y1=band[\"y1\"],\n",
    "        fillcolor=band[\"color\"], line=dict(width=0), layer=\"below\"\n",
    "    ))\n",
    "\n"
   ]
  },
  {
   "cell_type": "code",
   "execution_count": 6,
   "id": "93d46326",
   "metadata": {},
   "outputs": [],
   "source": [
    "# 3. Connector lines\n",
    "for idx, row in df.iterrows():\n",
    "    fig.add_trace(go.Scatter(\n",
    "        x=[0.5, row[\"x_label\"]], y=[row[\"y_pos\"], row[\"y_pos\"]],\n",
    "        mode='lines',\n",
    "        line=dict(color=row[\"color\"], width=2, dash='dot'),\n",
    "        hoverinfo='skip',\n",
    "        showlegend=False\n",
    "    ))\n",
    "\n"
   ]
  },
  {
   "cell_type": "code",
   "execution_count": 7,
   "id": "3fef8bd9",
   "metadata": {},
   "outputs": [
    {
     "data": {
      "application/vnd.plotly.v1+json": {
       "config": {
        "plotlyServerURL": "https://plot.ly"
       },
       "data": [
        {
         "hoverinfo": "skip",
         "line": {
          "color": "#546e7a",
          "width": 4
         },
         "mode": "lines",
         "showlegend": false,
         "type": "scatter",
         "x": [
          0.5,
          0.5
         ],
         "y": [
          0,
          1
         ]
        },
        {
         "hoverinfo": "skip",
         "line": {
          "color": "#3949ab",
          "dash": "dot",
          "width": 2
         },
         "mode": "lines",
         "showlegend": false,
         "type": "scatter",
         "x": [
          0.5,
          0.85
         ],
         "y": [
          0,
          0
         ]
        },
        {
         "hoverinfo": "skip",
         "line": {
          "color": "#5e35b1",
          "dash": "dot",
          "width": 2
         },
         "mode": "lines",
         "showlegend": false,
         "type": "scatter",
         "x": [
          0.5,
          0.15000000000000002
         ],
         "y": [
          0.034482758620689655,
          0.034482758620689655
         ]
        },
        {
         "hoverinfo": "skip",
         "line": {
          "color": "#3949ab",
          "dash": "dot",
          "width": 2
         },
         "mode": "lines",
         "showlegend": false,
         "type": "scatter",
         "x": [
          0.5,
          0.85
         ],
         "y": [
          0.06896551724137931,
          0.06896551724137931
         ]
        },
        {
         "hoverinfo": "skip",
         "line": {
          "color": "#3949ab",
          "dash": "dot",
          "width": 2
         },
         "mode": "lines",
         "showlegend": false,
         "type": "scatter",
         "x": [
          0.5,
          0.15000000000000002
         ],
         "y": [
          0.10344827586206896,
          0.10344827586206896
         ]
        },
        {
         "hoverinfo": "skip",
         "line": {
          "color": "#00897b",
          "dash": "dot",
          "width": 2
         },
         "mode": "lines",
         "showlegend": false,
         "type": "scatter",
         "x": [
          0.5,
          0.85
         ],
         "y": [
          0.13793103448275862,
          0.13793103448275862
         ]
        },
        {
         "hoverinfo": "skip",
         "line": {
          "color": "#6d4c41",
          "dash": "dot",
          "width": 2
         },
         "mode": "lines",
         "showlegend": false,
         "type": "scatter",
         "x": [
          0.5,
          0.15000000000000002
         ],
         "y": [
          0.1724137931034483,
          0.1724137931034483
         ]
        },
        {
         "hoverinfo": "skip",
         "line": {
          "color": "#1e88e5",
          "dash": "dot",
          "width": 2
         },
         "mode": "lines",
         "showlegend": false,
         "type": "scatter",
         "x": [
          0.5,
          0.85
         ],
         "y": [
          0.20689655172413793,
          0.20689655172413793
         ]
        },
        {
         "hoverinfo": "skip",
         "line": {
          "color": "#1e88e5",
          "dash": "dot",
          "width": 2
         },
         "mode": "lines",
         "showlegend": false,
         "type": "scatter",
         "x": [
          0.5,
          0.15000000000000002
         ],
         "y": [
          0.24137931034482757,
          0.24137931034482757
         ]
        },
        {
         "hoverinfo": "skip",
         "line": {
          "color": "#6d4c41",
          "dash": "dot",
          "width": 2
         },
         "mode": "lines",
         "showlegend": false,
         "type": "scatter",
         "x": [
          0.5,
          0.85
         ],
         "y": [
          0.27586206896551724,
          0.27586206896551724
         ]
        },
        {
         "hoverinfo": "skip",
         "line": {
          "color": "#00897b",
          "dash": "dot",
          "width": 2
         },
         "mode": "lines",
         "showlegend": false,
         "type": "scatter",
         "x": [
          0.5,
          0.15000000000000002
         ],
         "y": [
          0.3103448275862069,
          0.3103448275862069
         ]
        },
        {
         "hoverinfo": "skip",
         "line": {
          "color": "#00897b",
          "dash": "dot",
          "width": 2
         },
         "mode": "lines",
         "showlegend": false,
         "type": "scatter",
         "x": [
          0.5,
          0.85
         ],
         "y": [
          0.3448275862068966,
          0.3448275862068966
         ]
        },
        {
         "hoverinfo": "skip",
         "line": {
          "color": "#00897b",
          "dash": "dot",
          "width": 2
         },
         "mode": "lines",
         "showlegend": false,
         "type": "scatter",
         "x": [
          0.5,
          0.15000000000000002
         ],
         "y": [
          0.3793103448275862,
          0.3793103448275862
         ]
        },
        {
         "hoverinfo": "skip",
         "line": {
          "color": "#00897b",
          "dash": "dot",
          "width": 2
         },
         "mode": "lines",
         "showlegend": false,
         "type": "scatter",
         "x": [
          0.5,
          0.85
         ],
         "y": [
          0.41379310344827586,
          0.41379310344827586
         ]
        },
        {
         "hoverinfo": "skip",
         "line": {
          "color": "#1e88e5",
          "dash": "dot",
          "width": 2
         },
         "mode": "lines",
         "showlegend": false,
         "type": "scatter",
         "x": [
          0.5,
          0.15000000000000002
         ],
         "y": [
          0.4482758620689655,
          0.4482758620689655
         ]
        },
        {
         "hoverinfo": "skip",
         "line": {
          "color": "#1e88e5",
          "dash": "dot",
          "width": 2
         },
         "mode": "lines",
         "showlegend": false,
         "type": "scatter",
         "x": [
          0.5,
          0.85
         ],
         "y": [
          0.48275862068965514,
          0.48275862068965514
         ]
        },
        {
         "hoverinfo": "skip",
         "line": {
          "color": "#c2185b",
          "dash": "dot",
          "width": 2
         },
         "mode": "lines",
         "showlegend": false,
         "type": "scatter",
         "x": [
          0.5,
          0.15000000000000002
         ],
         "y": [
          0.5172413793103449,
          0.5172413793103449
         ]
        },
        {
         "hoverinfo": "skip",
         "line": {
          "color": "#1e88e5",
          "dash": "dot",
          "width": 2
         },
         "mode": "lines",
         "showlegend": false,
         "type": "scatter",
         "x": [
          0.5,
          0.85
         ],
         "y": [
          0.5517241379310345,
          0.5517241379310345
         ]
        },
        {
         "hoverinfo": "skip",
         "line": {
          "color": "#c2185b",
          "dash": "dot",
          "width": 2
         },
         "mode": "lines",
         "showlegend": false,
         "type": "scatter",
         "x": [
          0.5,
          0.15000000000000002
         ],
         "y": [
          0.5862068965517241,
          0.5862068965517241
         ]
        },
        {
         "hoverinfo": "skip",
         "line": {
          "color": "#c2185b",
          "dash": "dot",
          "width": 2
         },
         "mode": "lines",
         "showlegend": false,
         "type": "scatter",
         "x": [
          0.5,
          0.85
         ],
         "y": [
          0.6206896551724138,
          0.6206896551724138
         ]
        },
        {
         "hoverinfo": "skip",
         "line": {
          "color": "#c2185b",
          "dash": "dot",
          "width": 2
         },
         "mode": "lines",
         "showlegend": false,
         "type": "scatter",
         "x": [
          0.5,
          0.15000000000000002
         ],
         "y": [
          0.6551724137931034,
          0.6551724137931034
         ]
        },
        {
         "hoverinfo": "skip",
         "line": {
          "color": "#8e24aa",
          "dash": "dot",
          "width": 2
         },
         "mode": "lines",
         "showlegend": false,
         "type": "scatter",
         "x": [
          0.5,
          0.85
         ],
         "y": [
          0.6896551724137931,
          0.6896551724137931
         ]
        },
        {
         "hoverinfo": "skip",
         "line": {
          "color": "#039be5",
          "dash": "dot",
          "width": 2
         },
         "mode": "lines",
         "showlegend": false,
         "type": "scatter",
         "x": [
          0.5,
          0.15000000000000002
         ],
         "y": [
          0.7241379310344828,
          0.7241379310344828
         ]
        },
        {
         "hoverinfo": "skip",
         "line": {
          "color": "#fb8c00",
          "dash": "dot",
          "width": 2
         },
         "mode": "lines",
         "showlegend": false,
         "type": "scatter",
         "x": [
          0.5,
          0.85
         ],
         "y": [
          0.7586206896551724,
          0.7586206896551724
         ]
        },
        {
         "hoverinfo": "skip",
         "line": {
          "color": "#8e24aa",
          "dash": "dot",
          "width": 2
         },
         "mode": "lines",
         "showlegend": false,
         "type": "scatter",
         "x": [
          0.5,
          0.15000000000000002
         ],
         "y": [
          0.7931034482758621,
          0.7931034482758621
         ]
        },
        {
         "hoverinfo": "skip",
         "line": {
          "color": "#3949ab",
          "dash": "dot",
          "width": 2
         },
         "mode": "lines",
         "showlegend": false,
         "type": "scatter",
         "x": [
          0.5,
          0.85
         ],
         "y": [
          0.8275862068965517,
          0.8275862068965517
         ]
        },
        {
         "hoverinfo": "skip",
         "line": {
          "color": "#c2185b",
          "dash": "dot",
          "width": 2
         },
         "mode": "lines",
         "showlegend": false,
         "type": "scatter",
         "x": [
          0.5,
          0.15000000000000002
         ],
         "y": [
          0.8620689655172413,
          0.8620689655172413
         ]
        },
        {
         "hoverinfo": "skip",
         "line": {
          "color": "#3949ab",
          "dash": "dot",
          "width": 2
         },
         "mode": "lines",
         "showlegend": false,
         "type": "scatter",
         "x": [
          0.5,
          0.85
         ],
         "y": [
          0.896551724137931,
          0.896551724137931
         ]
        },
        {
         "hoverinfo": "skip",
         "line": {
          "color": "#3949ab",
          "dash": "dot",
          "width": 2
         },
         "mode": "lines",
         "showlegend": false,
         "type": "scatter",
         "x": [
          0.5,
          0.15000000000000002
         ],
         "y": [
          0.9310344827586207,
          0.9310344827586207
         ]
        },
        {
         "hoverinfo": "skip",
         "line": {
          "color": "#7cb342",
          "dash": "dot",
          "width": 2
         },
         "mode": "lines",
         "showlegend": false,
         "type": "scatter",
         "x": [
          0.5,
          0.85
         ],
         "y": [
          0.9655172413793103,
          0.9655172413793103
         ]
        },
        {
         "hoverinfo": "skip",
         "line": {
          "color": "#7cb342",
          "dash": "dot",
          "width": 2
         },
         "mode": "lines",
         "showlegend": false,
         "type": "scatter",
         "x": [
          0.5,
          0.15000000000000002
         ],
         "y": [
          1,
          1
         ]
        },
        {
         "hovertemplate": "%{text}<extra></extra>",
         "marker": {
          "color": [
           "#3949ab",
           "#5e35b1",
           "#3949ab",
           "#3949ab",
           "#00897b",
           "#6d4c41",
           "#1e88e5",
           "#1e88e5",
           "#6d4c41",
           "#00897b",
           "#00897b",
           "#00897b",
           "#00897b",
           "#1e88e5",
           "#1e88e5",
           "#c2185b",
           "#1e88e5",
           "#c2185b",
           "#c2185b",
           "#c2185b",
           "#8e24aa",
           "#039be5",
           "#fb8c00",
           "#8e24aa",
           "#3949ab",
           "#c2185b",
           "#3949ab",
           "#3949ab",
           "#7cb342",
           "#7cb342"
          ],
          "line": {
           "color": "white",
           "width": 2
          },
          "size": 18
         },
         "mode": "markers",
         "showlegend": false,
         "text": [
          "<b>Proto-Dravidian period</b><br><b>Period:</b> ~4500 BCE (2500 BCE)<br><b>Category:</b> Linguistics<br><br><b>Evidence:</b><br>Bayesian phylogenetics; comparative-historical linguistics<br><br><b>Description:</b><br>Proto-Dravidian dated to ~4,500 years before present; linguistic reconstruction anchors Dravidian family origins.<br><br><b>References:</b> [web:240][web:251][web:187][web:184]",
          "<b>Proto-Dravidian homeland context</b><br><b>Period:</b> ~3000–2500 BCE<br><b>Category:</b> Archaeology<br><br><b>Evidence:</b><br>Archaeolinguistics; cultural lexicon (agriculture, metallurgy, ecology)<br><br><b>Description:</b><br>Lexical reconstructions imply Southern Neolithic cultural ecology in peninsular India.<br><br><b>References:</b> [web:184][web:187]",
          "<b>Telugu splits from Proto-Dravidian</b><br><b>Period:</b> 1500–1000 BCE<br><b>Category:</b> Linguistics<br><br><b>Evidence:</b><br>Comparative phonological reconstruction; family tree topology<br><br><b>Description:</b><br>Telugu diverges as South-Central Dravidian branch, distinct from Tamil branch.<br><br><b>References:</b> [web:240][web:251]",
          "<b>South Dravidian I–II split</b><br><b>Period:</b> ~1100 BCE<br><b>Category:</b> Linguistics<br><br><b>Evidence:</b><br>Phylogenetic dating; subgroup innovations<br><br><b>Description:</b><br>South Dravidian split (~1100 BCE) separates Telugu lineage from South Dravidian I (e.g., Tamil).<br><br><b>References:</b> [web:240][web:251]",
          "<b>Earliest Telugu lexemes in inscriptions</b><br><b>Period:</b> ~400–200 BCE<br><b>Category:</b> Epigraphy<br><br><b>Evidence:</b><br>Bhattiprolu casket inscriptions; paleographic analysis<br><br><b>Description:</b><br>Prakrit inscriptions in the Andhra region include Telugu words; Dravidian-oriented letter forms emerge.<br><br><b>References:</b> [web:179][web:183][web:18][web:69]",
          "<b>Andhra in Mauryan period</b><br><b>Period:</b> ~257 BCE<br><b>Category:</b> History<br><br><b>Evidence:</b><br>Classical references; regional historiography<br><br><b>Description:</b><br>‘Andhra’ appears as a regional-linguistic identity during/near Mauryan horizons.<br><br><b>References:</b> [web:184][web:190]",
          "<b>Bhattiprolu script innovations</b><br><b>Period:</b> 3rd–1st c. BCE<br><b>Category:</b> Script<br><br><b>Evidence:</b><br>Paleography; structural features (inherent vowel discarded; distinct glyphs)<br><br><b>Description:</b><br>Brahmi variant adapted for Dravidian phonology; inscriptions are in Prakrit though letterforms suit Dravidian.<br><br><b>References:</b> [web:2][web:18][web:69]",
          "<b>Tamil-Brahmi contemporaneity</b><br><b>Period:</b> 2nd c. BCE–3rd c. CE<br><b>Category:</b> Script<br><br><b>Evidence:</b><br>Southern Brahmi adaptations; Dravidian morphophonology in script<br><br><b>Description:</b><br>Parallel southern Brahmi stream evidences Dravidian-motivated orthographic reforms.<br><br><b>References:</b> [web:137]",
          "<b>Satavahana (Andhra) horizon</b><br><b>Period:</b> ~110 BCE–220 CE<br><b>Category:</b> History<br><br><b>Evidence:</b><br>Epigraphy and coinage; Purāṇic notice<br><br><b>Description:</b><br>Satavahanas identified as ‘Andhra’; inscriptions largely in Prakrit amidst Telugu-speaking substrate.<br><br><b>References:</b> [web:305][web:308][web:310]",
          "<b>First inscriptional Telugu word</b><br><b>Period:</b> ~250 CE<br><b>Category:</b> Epigraphy<br><br><b>Evidence:</b><br>Nagarjunakonda/Amaravati sphere; lexeme ‘Nagabu’ attested<br><br><b>Description:</b><br>Early Telugu lexeme in stone records marks transition to identifiable Telugu within inscriptions.<br><br><b>References:</b> [web:188][web:315]",
          "<b>Halmidi inscription (Kannada)</b><br><b>Period:</b> 450–500 CE<br><b>Category:</b> Epigraphy<br><br><b>Evidence:</b><br>Kadamba script; earliest Kannada-language epigraph<br><br><b>Description:</b><br>Demonstrates the early South-Western script continuum related to later Telugu-Kannada developments.<br><br><b>References:</b> [web:103][web:105][web:109]",
          "<b>First complete Telugu inscription</b><br><b>Period:</b> 575 CE<br><b>Category:</b> Epigraphy<br><br><b>Evidence:</b><br>Renati Chola records (Kadapa region)<br><br><b>Description:</b><br>Telugu becomes an administrative inscriptional language with full syntactic deployment.<br><br><b>References:</b> [web:104][web:180][web:188][web:110]",
          "<b>First coastal Andhra Telugu epigraph</b><br><b>Period:</b> ~633 CE<br><b>Category:</b> Epigraphy<br><br><b>Evidence:</b><br>Early Āndhradeśa corpus survey<br><br><b>Description:</b><br>Geographical expansion of written Telugu into coastal tracts is epigraphically visible.<br><br><b>References:</b> [web:183]",
          "<b>Earliest Telugu alphabet usage</b><br><b>Period:</b> 660 CE<br><b>Category:</b> Script<br><br><b>Evidence:</b><br>Vikramaditya I inscription; Sanskrit in Telugu-Kannada script<br><br><b>Description:</b><br>Shows early deployment of Telugu-Kannada glyph forms for writing non-Telugu language content.<br><br><b>References:</b> [web:186]",
          "<b>Telugu–Kannada unified script</b><br><b>Period:</b> 7th–11th c. CE<br><b>Category:</b> Script<br><br><b>Evidence:</b><br>Kadamba → Telugu-Kannada continuum; Eastern Chalukya diffusion<br><br><b>Description:</b><br>Shared akshara system serves both languages for several centuries before stylistic divergence.<br><br><b>References:</b> [web:21][web:42][web:49][web:85]",
          "<b>Nannaya’s Andhra Mahabharatam</b><br><b>Period:</b> 1054–1061 CE<br><b>Category:</b> Literature<br><br><b>Evidence:</b><br>Court patronage (Raja Raja Narendra); early champu style<br><br><b>Description:</b><br>Adi Kavi Nannaya inaugurates classical Telugu literature and codifies literary register.<br><br><b>References:</b> [web:215][web:222][web:224][web:212]",
          "<b>Separation of Telugu & Kannada scripts</b><br><b>Period:</b> 1100–1400 CE<br><b>Category:</b> Script<br><br><b>Evidence:</b><br>Paleographic drift; regional styles<br><br><b>Description:</b><br>Unified Telugu–Kannada script differentiates into distinct modern trajectories over three centuries.<br><br><b>References:</b> [web:21][web:85][web:87]",
          "<b>Tikkana continues Mahabharatam</b><br><b>Period:</b> 1205–1288 CE<br><b>Category:</b> Literature<br><br><b>Evidence:</b><br>Kakatiya-era literary expansion; Ubhaya Kavi Mitrudu<br><br><b>Description:</b><br>Translates 15 later parvas, sustaining high classical style and literary continuity.<br><br><b>References:</b> [web:213][web:216][web:219]",
          "<b>Errana completes Mahabharatam</b><br><b>Period:</b> 14th c. CE<br><b>Category:</b> Literature<br><br><b>Evidence:</b><br>Completion of Aranya Parvam remainder<br><br><b>Description:</b><br>Kavitrayam’s 300-year project defines Telugu classicism and autonomous literary identity.<br><br><b>References:</b> [web:222]",
          "<b>Vijayanagara classical efflorescence</b><br><b>Period:</b> 15th–16th c. CE<br><b>Category:</b> Literature<br><br><b>Evidence:</b><br>Ashtadiggajas; Peddana’s Manucharitramu<br><br><b>Description:</b><br>Telugu reaches classical zenith at imperial court with ornate prabandha tradition.<br><br><b>References:</b> [web:220][web:214][web:226]",
          "<b>Paravastu Chinnayasuri, Bala Vyakaranamu</b><br><b>Period:</b> 1806–1862 CE<br><b>Category:</b> Grammar<br><br><b>Evidence:</b><br>Paninian framing of Telugu; prescriptive codification<br><br><b>Description:</b><br>Standardizes Grandhika register and pedagogy; entrenches diglossia with Vyavaharika.<br><br><b>References:</b> [web:247][web:253][web:250]",
          "<b>C. P. Brown’s Telugu renaissance</b><br><b>Period:</b> 1840s–1880s<br><b>Category:</b> Lexicography<br><br><b>Evidence:</b><br>Dictionaries; manuscript rescue; critical editions<br><br><b>Description:</b><br>Systematic preservation and lexicographic standards prevent severe loss of classical corpus.<br><br><b>References:</b> [web:276][web:285][web:288]",
          "<b>Kandukuri Veeresalingam’s reform</b><br><b>Period:</b> 1848–1919<br><b>Category:</b> Modernity<br><br><b>Evidence:</b><br>First Telugu novel; widow remarriage; journals<br><br><b>Description:</b><br>Harnesses Telugu for social reform, women’s education, and modern prose.<br><br><b>References:</b> [web:277][web:283][web:289][web:274]",
          "<b>Bala Vyakaranamu in schools</b><br><b>Period:</b> 1858<br><b>Category:</b> Grammar<br><br><b>Evidence:</b><br>Educational standardization of prescriptive grammar<br><br><b>Description:</b><br>Codified norms pervade curricula, shaping prose and formal instruction.<br><br><b>References:</b> [web:250][web:247]",
          "<b>Gidugu Venkata Ramamurthy’s Vyavaharika</b><br><b>Period:</b> 1863–1940<br><b>Category:</b> Linguistics<br><br><b>Evidence:</b><br>Colloquial advocacy; Savara linguistics<br><br><b>Description:</b><br>Establishes linguistic democracy prioritizing spoken Telugu; August 29 observed as Telugu Language Day.<br><br><b>References:</b> [web:252][web:246][web:249][web:255]",
          "<b>Viswanatha Satyanarayana, Kavi Samraat</b><br><b>Period:</b> 1895–1976<br><b>Category:</b> Literature<br><br><b>Evidence:</b><br>Jnanpith 1970; classical meters in modern oeuvre<br><br><b>Description:</b><br>Demonstrates modern classical mastery with vast, genre-spanning contributions.<br><br><b>References:</b> [web:278][web:272][web:284]",
          "<b>Bhadriraju Krishnamurti’s Dravidian linguistics</b><br><b>Period:</b> 1928–2012<br><b>Category:</b> Linguistics<br><br><b>Evidence:</b><br>Telugu Verbal Bases (1961); The Dravidian Languages (2003)<br><br><b>Description:</b><br>Indigenous scholar synthesizes insider knowledge with rigorous comparative method.<br><br><b>References:</b> [web:245][web:251][web:263][web:232]",
          "<b>The Dravidian Languages (Cambridge)</b><br><b>Period:</b> 2003<br><b>Category:</b> Linguistics<br><br><b>Evidence:</b><br>Comprehensive synthesis; standard reference<br><br><b>Description:</b><br>Definitive framework for Dravidian comparative linguistics and Telugu’s place within it.<br><br><b>References:</b> [web:251][web:263]",
          "<b>Classical language policy begins</b><br><b>Period:</b> 2004<br><b>Category:</b> Policy<br><br><b>Evidence:</b><br>Government criteria; expert committee<br><br><b>Description:</b><br>Criteria codified for classical status; Tamil designated first under policy.<br><br><b>References:</b> [web:309][web:312]",
          "<b>Telugu recognized as Classical Language</b><br><b>Period:</b> 2008<br><b>Category:</b> Policy<br><br><b>Evidence:</b><br>Government notification; legal scrutiny later upheld<br><br><b>Description:</b><br>Documentation on antiquity, independent literature, and continuity secures classical status.<br><br><b>References:</b> [web:307][web:309][web:312][web:314]"
         ],
         "type": "scatter",
         "x": [
          0.5,
          0.5,
          0.5,
          0.5,
          0.5,
          0.5,
          0.5,
          0.5,
          0.5,
          0.5,
          0.5,
          0.5,
          0.5,
          0.5,
          0.5,
          0.5,
          0.5,
          0.5,
          0.5,
          0.5,
          0.5,
          0.5,
          0.5,
          0.5,
          0.5,
          0.5,
          0.5,
          0.5,
          0.5,
          0.5
         ],
         "y": {
          "bdata": "AAAAAAAAAACWexphuaehP5Z7GmG5p7E/YbmnEZZ7uj+WexphuafBP3waYbmnEcY/YbmnEZZ7yj9GWO5phOXOP5Z7GmG5p9E/Ccs9jbDc0z98GmG5pxHWP+5phOWeRtg/YbmnEZZ72j/UCMs9jbDcP0ZY7mmE5d4/3dMIyz2N4D+WexphuafhP08jLPc0wuI/Ccs9jbDc4z/Cck8jLPfkP3waYbmnEeY/NcJyTyMs5z/uaYTlnkboP6gRlnsaYek/YbmnEZZ76j8aYbmnEZbrP9QIyz2NsOw/jbDc0wjL7T9GWO5phOXuPwAAAAAAAPA/",
          "dtype": "f8"
         }
        }
       ],
       "layout": {
        "template": {
         "data": {
          "bar": [
           {
            "error_x": {
             "color": "#2a3f5f"
            },
            "error_y": {
             "color": "#2a3f5f"
            },
            "marker": {
             "line": {
              "color": "#E5ECF6",
              "width": 0.5
             },
             "pattern": {
              "fillmode": "overlay",
              "size": 10,
              "solidity": 0.2
             }
            },
            "type": "bar"
           }
          ],
          "barpolar": [
           {
            "marker": {
             "line": {
              "color": "#E5ECF6",
              "width": 0.5
             },
             "pattern": {
              "fillmode": "overlay",
              "size": 10,
              "solidity": 0.2
             }
            },
            "type": "barpolar"
           }
          ],
          "carpet": [
           {
            "aaxis": {
             "endlinecolor": "#2a3f5f",
             "gridcolor": "white",
             "linecolor": "white",
             "minorgridcolor": "white",
             "startlinecolor": "#2a3f5f"
            },
            "baxis": {
             "endlinecolor": "#2a3f5f",
             "gridcolor": "white",
             "linecolor": "white",
             "minorgridcolor": "white",
             "startlinecolor": "#2a3f5f"
            },
            "type": "carpet"
           }
          ],
          "choropleth": [
           {
            "colorbar": {
             "outlinewidth": 0,
             "ticks": ""
            },
            "type": "choropleth"
           }
          ],
          "contour": [
           {
            "colorbar": {
             "outlinewidth": 0,
             "ticks": ""
            },
            "colorscale": [
             [
              0,
              "#0d0887"
             ],
             [
              0.1111111111111111,
              "#46039f"
             ],
             [
              0.2222222222222222,
              "#7201a8"
             ],
             [
              0.3333333333333333,
              "#9c179e"
             ],
             [
              0.4444444444444444,
              "#bd3786"
             ],
             [
              0.5555555555555556,
              "#d8576b"
             ],
             [
              0.6666666666666666,
              "#ed7953"
             ],
             [
              0.7777777777777778,
              "#fb9f3a"
             ],
             [
              0.8888888888888888,
              "#fdca26"
             ],
             [
              1,
              "#f0f921"
             ]
            ],
            "type": "contour"
           }
          ],
          "contourcarpet": [
           {
            "colorbar": {
             "outlinewidth": 0,
             "ticks": ""
            },
            "type": "contourcarpet"
           }
          ],
          "heatmap": [
           {
            "colorbar": {
             "outlinewidth": 0,
             "ticks": ""
            },
            "colorscale": [
             [
              0,
              "#0d0887"
             ],
             [
              0.1111111111111111,
              "#46039f"
             ],
             [
              0.2222222222222222,
              "#7201a8"
             ],
             [
              0.3333333333333333,
              "#9c179e"
             ],
             [
              0.4444444444444444,
              "#bd3786"
             ],
             [
              0.5555555555555556,
              "#d8576b"
             ],
             [
              0.6666666666666666,
              "#ed7953"
             ],
             [
              0.7777777777777778,
              "#fb9f3a"
             ],
             [
              0.8888888888888888,
              "#fdca26"
             ],
             [
              1,
              "#f0f921"
             ]
            ],
            "type": "heatmap"
           }
          ],
          "histogram": [
           {
            "marker": {
             "pattern": {
              "fillmode": "overlay",
              "size": 10,
              "solidity": 0.2
             }
            },
            "type": "histogram"
           }
          ],
          "histogram2d": [
           {
            "colorbar": {
             "outlinewidth": 0,
             "ticks": ""
            },
            "colorscale": [
             [
              0,
              "#0d0887"
             ],
             [
              0.1111111111111111,
              "#46039f"
             ],
             [
              0.2222222222222222,
              "#7201a8"
             ],
             [
              0.3333333333333333,
              "#9c179e"
             ],
             [
              0.4444444444444444,
              "#bd3786"
             ],
             [
              0.5555555555555556,
              "#d8576b"
             ],
             [
              0.6666666666666666,
              "#ed7953"
             ],
             [
              0.7777777777777778,
              "#fb9f3a"
             ],
             [
              0.8888888888888888,
              "#fdca26"
             ],
             [
              1,
              "#f0f921"
             ]
            ],
            "type": "histogram2d"
           }
          ],
          "histogram2dcontour": [
           {
            "colorbar": {
             "outlinewidth": 0,
             "ticks": ""
            },
            "colorscale": [
             [
              0,
              "#0d0887"
             ],
             [
              0.1111111111111111,
              "#46039f"
             ],
             [
              0.2222222222222222,
              "#7201a8"
             ],
             [
              0.3333333333333333,
              "#9c179e"
             ],
             [
              0.4444444444444444,
              "#bd3786"
             ],
             [
              0.5555555555555556,
              "#d8576b"
             ],
             [
              0.6666666666666666,
              "#ed7953"
             ],
             [
              0.7777777777777778,
              "#fb9f3a"
             ],
             [
              0.8888888888888888,
              "#fdca26"
             ],
             [
              1,
              "#f0f921"
             ]
            ],
            "type": "histogram2dcontour"
           }
          ],
          "mesh3d": [
           {
            "colorbar": {
             "outlinewidth": 0,
             "ticks": ""
            },
            "type": "mesh3d"
           }
          ],
          "parcoords": [
           {
            "line": {
             "colorbar": {
              "outlinewidth": 0,
              "ticks": ""
             }
            },
            "type": "parcoords"
           }
          ],
          "pie": [
           {
            "automargin": true,
            "type": "pie"
           }
          ],
          "scatter": [
           {
            "fillpattern": {
             "fillmode": "overlay",
             "size": 10,
             "solidity": 0.2
            },
            "type": "scatter"
           }
          ],
          "scatter3d": [
           {
            "line": {
             "colorbar": {
              "outlinewidth": 0,
              "ticks": ""
             }
            },
            "marker": {
             "colorbar": {
              "outlinewidth": 0,
              "ticks": ""
             }
            },
            "type": "scatter3d"
           }
          ],
          "scattercarpet": [
           {
            "marker": {
             "colorbar": {
              "outlinewidth": 0,
              "ticks": ""
             }
            },
            "type": "scattercarpet"
           }
          ],
          "scattergeo": [
           {
            "marker": {
             "colorbar": {
              "outlinewidth": 0,
              "ticks": ""
             }
            },
            "type": "scattergeo"
           }
          ],
          "scattergl": [
           {
            "marker": {
             "colorbar": {
              "outlinewidth": 0,
              "ticks": ""
             }
            },
            "type": "scattergl"
           }
          ],
          "scattermap": [
           {
            "marker": {
             "colorbar": {
              "outlinewidth": 0,
              "ticks": ""
             }
            },
            "type": "scattermap"
           }
          ],
          "scattermapbox": [
           {
            "marker": {
             "colorbar": {
              "outlinewidth": 0,
              "ticks": ""
             }
            },
            "type": "scattermapbox"
           }
          ],
          "scatterpolar": [
           {
            "marker": {
             "colorbar": {
              "outlinewidth": 0,
              "ticks": ""
             }
            },
            "type": "scatterpolar"
           }
          ],
          "scatterpolargl": [
           {
            "marker": {
             "colorbar": {
              "outlinewidth": 0,
              "ticks": ""
             }
            },
            "type": "scatterpolargl"
           }
          ],
          "scatterternary": [
           {
            "marker": {
             "colorbar": {
              "outlinewidth": 0,
              "ticks": ""
             }
            },
            "type": "scatterternary"
           }
          ],
          "surface": [
           {
            "colorbar": {
             "outlinewidth": 0,
             "ticks": ""
            },
            "colorscale": [
             [
              0,
              "#0d0887"
             ],
             [
              0.1111111111111111,
              "#46039f"
             ],
             [
              0.2222222222222222,
              "#7201a8"
             ],
             [
              0.3333333333333333,
              "#9c179e"
             ],
             [
              0.4444444444444444,
              "#bd3786"
             ],
             [
              0.5555555555555556,
              "#d8576b"
             ],
             [
              0.6666666666666666,
              "#ed7953"
             ],
             [
              0.7777777777777778,
              "#fb9f3a"
             ],
             [
              0.8888888888888888,
              "#fdca26"
             ],
             [
              1,
              "#f0f921"
             ]
            ],
            "type": "surface"
           }
          ],
          "table": [
           {
            "cells": {
             "fill": {
              "color": "#EBF0F8"
             },
             "line": {
              "color": "white"
             }
            },
            "header": {
             "fill": {
              "color": "#C8D4E3"
             },
             "line": {
              "color": "white"
             }
            },
            "type": "table"
           }
          ]
         },
         "layout": {
          "annotationdefaults": {
           "arrowcolor": "#2a3f5f",
           "arrowhead": 0,
           "arrowwidth": 1
          },
          "autotypenumbers": "strict",
          "coloraxis": {
           "colorbar": {
            "outlinewidth": 0,
            "ticks": ""
           }
          },
          "colorscale": {
           "diverging": [
            [
             0,
             "#8e0152"
            ],
            [
             0.1,
             "#c51b7d"
            ],
            [
             0.2,
             "#de77ae"
            ],
            [
             0.3,
             "#f1b6da"
            ],
            [
             0.4,
             "#fde0ef"
            ],
            [
             0.5,
             "#f7f7f7"
            ],
            [
             0.6,
             "#e6f5d0"
            ],
            [
             0.7,
             "#b8e186"
            ],
            [
             0.8,
             "#7fbc41"
            ],
            [
             0.9,
             "#4d9221"
            ],
            [
             1,
             "#276419"
            ]
           ],
           "sequential": [
            [
             0,
             "#0d0887"
            ],
            [
             0.1111111111111111,
             "#46039f"
            ],
            [
             0.2222222222222222,
             "#7201a8"
            ],
            [
             0.3333333333333333,
             "#9c179e"
            ],
            [
             0.4444444444444444,
             "#bd3786"
            ],
            [
             0.5555555555555556,
             "#d8576b"
            ],
            [
             0.6666666666666666,
             "#ed7953"
            ],
            [
             0.7777777777777778,
             "#fb9f3a"
            ],
            [
             0.8888888888888888,
             "#fdca26"
            ],
            [
             1,
             "#f0f921"
            ]
           ],
           "sequentialminus": [
            [
             0,
             "#0d0887"
            ],
            [
             0.1111111111111111,
             "#46039f"
            ],
            [
             0.2222222222222222,
             "#7201a8"
            ],
            [
             0.3333333333333333,
             "#9c179e"
            ],
            [
             0.4444444444444444,
             "#bd3786"
            ],
            [
             0.5555555555555556,
             "#d8576b"
            ],
            [
             0.6666666666666666,
             "#ed7953"
            ],
            [
             0.7777777777777778,
             "#fb9f3a"
            ],
            [
             0.8888888888888888,
             "#fdca26"
            ],
            [
             1,
             "#f0f921"
            ]
           ]
          },
          "colorway": [
           "#636efa",
           "#EF553B",
           "#00cc96",
           "#ab63fa",
           "#FFA15A",
           "#19d3f3",
           "#FF6692",
           "#B6E880",
           "#FF97FF",
           "#FECB52"
          ],
          "font": {
           "color": "#2a3f5f"
          },
          "geo": {
           "bgcolor": "white",
           "lakecolor": "white",
           "landcolor": "#E5ECF6",
           "showlakes": true,
           "showland": true,
           "subunitcolor": "white"
          },
          "hoverlabel": {
           "align": "left"
          },
          "hovermode": "closest",
          "mapbox": {
           "style": "light"
          },
          "paper_bgcolor": "white",
          "plot_bgcolor": "#E5ECF6",
          "polar": {
           "angularaxis": {
            "gridcolor": "white",
            "linecolor": "white",
            "ticks": ""
           },
           "bgcolor": "#E5ECF6",
           "radialaxis": {
            "gridcolor": "white",
            "linecolor": "white",
            "ticks": ""
           }
          },
          "scene": {
           "xaxis": {
            "backgroundcolor": "#E5ECF6",
            "gridcolor": "white",
            "gridwidth": 2,
            "linecolor": "white",
            "showbackground": true,
            "ticks": "",
            "zerolinecolor": "white"
           },
           "yaxis": {
            "backgroundcolor": "#E5ECF6",
            "gridcolor": "white",
            "gridwidth": 2,
            "linecolor": "white",
            "showbackground": true,
            "ticks": "",
            "zerolinecolor": "white"
           },
           "zaxis": {
            "backgroundcolor": "#E5ECF6",
            "gridcolor": "white",
            "gridwidth": 2,
            "linecolor": "white",
            "showbackground": true,
            "ticks": "",
            "zerolinecolor": "white"
           }
          },
          "shapedefaults": {
           "line": {
            "color": "#2a3f5f"
           }
          },
          "ternary": {
           "aaxis": {
            "gridcolor": "white",
            "linecolor": "white",
            "ticks": ""
           },
           "baxis": {
            "gridcolor": "white",
            "linecolor": "white",
            "ticks": ""
           },
           "bgcolor": "#E5ECF6",
           "caxis": {
            "gridcolor": "white",
            "linecolor": "white",
            "ticks": ""
           }
          },
          "title": {
           "x": 0.05
          },
          "xaxis": {
           "automargin": true,
           "gridcolor": "white",
           "linecolor": "white",
           "ticks": "",
           "title": {
            "standoff": 15
           },
           "zerolinecolor": "white",
           "zerolinewidth": 2
          },
          "yaxis": {
           "automargin": true,
           "gridcolor": "white",
           "linecolor": "white",
           "ticks": "",
           "title": {
            "standoff": 15
           },
           "zerolinecolor": "white",
           "zerolinewidth": 2
          }
         }
        }
       }
      }
     },
     "metadata": {},
     "output_type": "display_data"
    }
   ],
   "source": [
    "# 4. Event markers (HOVER SHOWS FULL DETAILS)\n",
    "fig.add_trace(go.Scatter(\n",
    "    x=[0.5] * len(df), y=df[\"y_pos\"],\n",
    "    mode='markers',\n",
    "    marker=dict(size=18, color=df[\"color\"], \n",
    "                line=dict(color='white', width=2)),\n",
    "    text=df[\"hover_text\"],\n",
    "    hovertemplate='%{text}<extra></extra>',\n",
    "    showlegend=False\n",
    "))\n",
    "\n"
   ]
  },
  {
   "cell_type": "code",
   "execution_count": 8,
   "id": "c216d252",
   "metadata": {},
   "outputs": [
    {
     "data": {
      "application/vnd.plotly.v1+json": {
       "config": {
        "plotlyServerURL": "https://plot.ly"
       },
       "data": [
        {
         "hoverinfo": "skip",
         "line": {
          "color": "#546e7a",
          "width": 4
         },
         "mode": "lines",
         "showlegend": false,
         "type": "scatter",
         "x": [
          0.5,
          0.5
         ],
         "y": [
          0,
          1
         ]
        },
        {
         "hoverinfo": "skip",
         "line": {
          "color": "#3949ab",
          "dash": "dot",
          "width": 2
         },
         "mode": "lines",
         "showlegend": false,
         "type": "scatter",
         "x": [
          0.5,
          0.85
         ],
         "y": [
          0,
          0
         ]
        },
        {
         "hoverinfo": "skip",
         "line": {
          "color": "#5e35b1",
          "dash": "dot",
          "width": 2
         },
         "mode": "lines",
         "showlegend": false,
         "type": "scatter",
         "x": [
          0.5,
          0.15000000000000002
         ],
         "y": [
          0.034482758620689655,
          0.034482758620689655
         ]
        },
        {
         "hoverinfo": "skip",
         "line": {
          "color": "#3949ab",
          "dash": "dot",
          "width": 2
         },
         "mode": "lines",
         "showlegend": false,
         "type": "scatter",
         "x": [
          0.5,
          0.85
         ],
         "y": [
          0.06896551724137931,
          0.06896551724137931
         ]
        },
        {
         "hoverinfo": "skip",
         "line": {
          "color": "#3949ab",
          "dash": "dot",
          "width": 2
         },
         "mode": "lines",
         "showlegend": false,
         "type": "scatter",
         "x": [
          0.5,
          0.15000000000000002
         ],
         "y": [
          0.10344827586206896,
          0.10344827586206896
         ]
        },
        {
         "hoverinfo": "skip",
         "line": {
          "color": "#00897b",
          "dash": "dot",
          "width": 2
         },
         "mode": "lines",
         "showlegend": false,
         "type": "scatter",
         "x": [
          0.5,
          0.85
         ],
         "y": [
          0.13793103448275862,
          0.13793103448275862
         ]
        },
        {
         "hoverinfo": "skip",
         "line": {
          "color": "#6d4c41",
          "dash": "dot",
          "width": 2
         },
         "mode": "lines",
         "showlegend": false,
         "type": "scatter",
         "x": [
          0.5,
          0.15000000000000002
         ],
         "y": [
          0.1724137931034483,
          0.1724137931034483
         ]
        },
        {
         "hoverinfo": "skip",
         "line": {
          "color": "#1e88e5",
          "dash": "dot",
          "width": 2
         },
         "mode": "lines",
         "showlegend": false,
         "type": "scatter",
         "x": [
          0.5,
          0.85
         ],
         "y": [
          0.20689655172413793,
          0.20689655172413793
         ]
        },
        {
         "hoverinfo": "skip",
         "line": {
          "color": "#1e88e5",
          "dash": "dot",
          "width": 2
         },
         "mode": "lines",
         "showlegend": false,
         "type": "scatter",
         "x": [
          0.5,
          0.15000000000000002
         ],
         "y": [
          0.24137931034482757,
          0.24137931034482757
         ]
        },
        {
         "hoverinfo": "skip",
         "line": {
          "color": "#6d4c41",
          "dash": "dot",
          "width": 2
         },
         "mode": "lines",
         "showlegend": false,
         "type": "scatter",
         "x": [
          0.5,
          0.85
         ],
         "y": [
          0.27586206896551724,
          0.27586206896551724
         ]
        },
        {
         "hoverinfo": "skip",
         "line": {
          "color": "#00897b",
          "dash": "dot",
          "width": 2
         },
         "mode": "lines",
         "showlegend": false,
         "type": "scatter",
         "x": [
          0.5,
          0.15000000000000002
         ],
         "y": [
          0.3103448275862069,
          0.3103448275862069
         ]
        },
        {
         "hoverinfo": "skip",
         "line": {
          "color": "#00897b",
          "dash": "dot",
          "width": 2
         },
         "mode": "lines",
         "showlegend": false,
         "type": "scatter",
         "x": [
          0.5,
          0.85
         ],
         "y": [
          0.3448275862068966,
          0.3448275862068966
         ]
        },
        {
         "hoverinfo": "skip",
         "line": {
          "color": "#00897b",
          "dash": "dot",
          "width": 2
         },
         "mode": "lines",
         "showlegend": false,
         "type": "scatter",
         "x": [
          0.5,
          0.15000000000000002
         ],
         "y": [
          0.3793103448275862,
          0.3793103448275862
         ]
        },
        {
         "hoverinfo": "skip",
         "line": {
          "color": "#00897b",
          "dash": "dot",
          "width": 2
         },
         "mode": "lines",
         "showlegend": false,
         "type": "scatter",
         "x": [
          0.5,
          0.85
         ],
         "y": [
          0.41379310344827586,
          0.41379310344827586
         ]
        },
        {
         "hoverinfo": "skip",
         "line": {
          "color": "#1e88e5",
          "dash": "dot",
          "width": 2
         },
         "mode": "lines",
         "showlegend": false,
         "type": "scatter",
         "x": [
          0.5,
          0.15000000000000002
         ],
         "y": [
          0.4482758620689655,
          0.4482758620689655
         ]
        },
        {
         "hoverinfo": "skip",
         "line": {
          "color": "#1e88e5",
          "dash": "dot",
          "width": 2
         },
         "mode": "lines",
         "showlegend": false,
         "type": "scatter",
         "x": [
          0.5,
          0.85
         ],
         "y": [
          0.48275862068965514,
          0.48275862068965514
         ]
        },
        {
         "hoverinfo": "skip",
         "line": {
          "color": "#c2185b",
          "dash": "dot",
          "width": 2
         },
         "mode": "lines",
         "showlegend": false,
         "type": "scatter",
         "x": [
          0.5,
          0.15000000000000002
         ],
         "y": [
          0.5172413793103449,
          0.5172413793103449
         ]
        },
        {
         "hoverinfo": "skip",
         "line": {
          "color": "#1e88e5",
          "dash": "dot",
          "width": 2
         },
         "mode": "lines",
         "showlegend": false,
         "type": "scatter",
         "x": [
          0.5,
          0.85
         ],
         "y": [
          0.5517241379310345,
          0.5517241379310345
         ]
        },
        {
         "hoverinfo": "skip",
         "line": {
          "color": "#c2185b",
          "dash": "dot",
          "width": 2
         },
         "mode": "lines",
         "showlegend": false,
         "type": "scatter",
         "x": [
          0.5,
          0.15000000000000002
         ],
         "y": [
          0.5862068965517241,
          0.5862068965517241
         ]
        },
        {
         "hoverinfo": "skip",
         "line": {
          "color": "#c2185b",
          "dash": "dot",
          "width": 2
         },
         "mode": "lines",
         "showlegend": false,
         "type": "scatter",
         "x": [
          0.5,
          0.85
         ],
         "y": [
          0.6206896551724138,
          0.6206896551724138
         ]
        },
        {
         "hoverinfo": "skip",
         "line": {
          "color": "#c2185b",
          "dash": "dot",
          "width": 2
         },
         "mode": "lines",
         "showlegend": false,
         "type": "scatter",
         "x": [
          0.5,
          0.15000000000000002
         ],
         "y": [
          0.6551724137931034,
          0.6551724137931034
         ]
        },
        {
         "hoverinfo": "skip",
         "line": {
          "color": "#8e24aa",
          "dash": "dot",
          "width": 2
         },
         "mode": "lines",
         "showlegend": false,
         "type": "scatter",
         "x": [
          0.5,
          0.85
         ],
         "y": [
          0.6896551724137931,
          0.6896551724137931
         ]
        },
        {
         "hoverinfo": "skip",
         "line": {
          "color": "#039be5",
          "dash": "dot",
          "width": 2
         },
         "mode": "lines",
         "showlegend": false,
         "type": "scatter",
         "x": [
          0.5,
          0.15000000000000002
         ],
         "y": [
          0.7241379310344828,
          0.7241379310344828
         ]
        },
        {
         "hoverinfo": "skip",
         "line": {
          "color": "#fb8c00",
          "dash": "dot",
          "width": 2
         },
         "mode": "lines",
         "showlegend": false,
         "type": "scatter",
         "x": [
          0.5,
          0.85
         ],
         "y": [
          0.7586206896551724,
          0.7586206896551724
         ]
        },
        {
         "hoverinfo": "skip",
         "line": {
          "color": "#8e24aa",
          "dash": "dot",
          "width": 2
         },
         "mode": "lines",
         "showlegend": false,
         "type": "scatter",
         "x": [
          0.5,
          0.15000000000000002
         ],
         "y": [
          0.7931034482758621,
          0.7931034482758621
         ]
        },
        {
         "hoverinfo": "skip",
         "line": {
          "color": "#3949ab",
          "dash": "dot",
          "width": 2
         },
         "mode": "lines",
         "showlegend": false,
         "type": "scatter",
         "x": [
          0.5,
          0.85
         ],
         "y": [
          0.8275862068965517,
          0.8275862068965517
         ]
        },
        {
         "hoverinfo": "skip",
         "line": {
          "color": "#c2185b",
          "dash": "dot",
          "width": 2
         },
         "mode": "lines",
         "showlegend": false,
         "type": "scatter",
         "x": [
          0.5,
          0.15000000000000002
         ],
         "y": [
          0.8620689655172413,
          0.8620689655172413
         ]
        },
        {
         "hoverinfo": "skip",
         "line": {
          "color": "#3949ab",
          "dash": "dot",
          "width": 2
         },
         "mode": "lines",
         "showlegend": false,
         "type": "scatter",
         "x": [
          0.5,
          0.85
         ],
         "y": [
          0.896551724137931,
          0.896551724137931
         ]
        },
        {
         "hoverinfo": "skip",
         "line": {
          "color": "#3949ab",
          "dash": "dot",
          "width": 2
         },
         "mode": "lines",
         "showlegend": false,
         "type": "scatter",
         "x": [
          0.5,
          0.15000000000000002
         ],
         "y": [
          0.9310344827586207,
          0.9310344827586207
         ]
        },
        {
         "hoverinfo": "skip",
         "line": {
          "color": "#7cb342",
          "dash": "dot",
          "width": 2
         },
         "mode": "lines",
         "showlegend": false,
         "type": "scatter",
         "x": [
          0.5,
          0.85
         ],
         "y": [
          0.9655172413793103,
          0.9655172413793103
         ]
        },
        {
         "hoverinfo": "skip",
         "line": {
          "color": "#7cb342",
          "dash": "dot",
          "width": 2
         },
         "mode": "lines",
         "showlegend": false,
         "type": "scatter",
         "x": [
          0.5,
          0.15000000000000002
         ],
         "y": [
          1,
          1
         ]
        },
        {
         "hovertemplate": "%{text}<extra></extra>",
         "marker": {
          "color": [
           "#3949ab",
           "#5e35b1",
           "#3949ab",
           "#3949ab",
           "#00897b",
           "#6d4c41",
           "#1e88e5",
           "#1e88e5",
           "#6d4c41",
           "#00897b",
           "#00897b",
           "#00897b",
           "#00897b",
           "#1e88e5",
           "#1e88e5",
           "#c2185b",
           "#1e88e5",
           "#c2185b",
           "#c2185b",
           "#c2185b",
           "#8e24aa",
           "#039be5",
           "#fb8c00",
           "#8e24aa",
           "#3949ab",
           "#c2185b",
           "#3949ab",
           "#3949ab",
           "#7cb342",
           "#7cb342"
          ],
          "line": {
           "color": "white",
           "width": 2
          },
          "size": 18
         },
         "mode": "markers",
         "showlegend": false,
         "text": [
          "<b>Proto-Dravidian period</b><br><b>Period:</b> ~4500 BCE (2500 BCE)<br><b>Category:</b> Linguistics<br><br><b>Evidence:</b><br>Bayesian phylogenetics; comparative-historical linguistics<br><br><b>Description:</b><br>Proto-Dravidian dated to ~4,500 years before present; linguistic reconstruction anchors Dravidian family origins.<br><br><b>References:</b> [web:240][web:251][web:187][web:184]",
          "<b>Proto-Dravidian homeland context</b><br><b>Period:</b> ~3000–2500 BCE<br><b>Category:</b> Archaeology<br><br><b>Evidence:</b><br>Archaeolinguistics; cultural lexicon (agriculture, metallurgy, ecology)<br><br><b>Description:</b><br>Lexical reconstructions imply Southern Neolithic cultural ecology in peninsular India.<br><br><b>References:</b> [web:184][web:187]",
          "<b>Telugu splits from Proto-Dravidian</b><br><b>Period:</b> 1500–1000 BCE<br><b>Category:</b> Linguistics<br><br><b>Evidence:</b><br>Comparative phonological reconstruction; family tree topology<br><br><b>Description:</b><br>Telugu diverges as South-Central Dravidian branch, distinct from Tamil branch.<br><br><b>References:</b> [web:240][web:251]",
          "<b>South Dravidian I–II split</b><br><b>Period:</b> ~1100 BCE<br><b>Category:</b> Linguistics<br><br><b>Evidence:</b><br>Phylogenetic dating; subgroup innovations<br><br><b>Description:</b><br>South Dravidian split (~1100 BCE) separates Telugu lineage from South Dravidian I (e.g., Tamil).<br><br><b>References:</b> [web:240][web:251]",
          "<b>Earliest Telugu lexemes in inscriptions</b><br><b>Period:</b> ~400–200 BCE<br><b>Category:</b> Epigraphy<br><br><b>Evidence:</b><br>Bhattiprolu casket inscriptions; paleographic analysis<br><br><b>Description:</b><br>Prakrit inscriptions in the Andhra region include Telugu words; Dravidian-oriented letter forms emerge.<br><br><b>References:</b> [web:179][web:183][web:18][web:69]",
          "<b>Andhra in Mauryan period</b><br><b>Period:</b> ~257 BCE<br><b>Category:</b> History<br><br><b>Evidence:</b><br>Classical references; regional historiography<br><br><b>Description:</b><br>‘Andhra’ appears as a regional-linguistic identity during/near Mauryan horizons.<br><br><b>References:</b> [web:184][web:190]",
          "<b>Bhattiprolu script innovations</b><br><b>Period:</b> 3rd–1st c. BCE<br><b>Category:</b> Script<br><br><b>Evidence:</b><br>Paleography; structural features (inherent vowel discarded; distinct glyphs)<br><br><b>Description:</b><br>Brahmi variant adapted for Dravidian phonology; inscriptions are in Prakrit though letterforms suit Dravidian.<br><br><b>References:</b> [web:2][web:18][web:69]",
          "<b>Tamil-Brahmi contemporaneity</b><br><b>Period:</b> 2nd c. BCE–3rd c. CE<br><b>Category:</b> Script<br><br><b>Evidence:</b><br>Southern Brahmi adaptations; Dravidian morphophonology in script<br><br><b>Description:</b><br>Parallel southern Brahmi stream evidences Dravidian-motivated orthographic reforms.<br><br><b>References:</b> [web:137]",
          "<b>Satavahana (Andhra) horizon</b><br><b>Period:</b> ~110 BCE–220 CE<br><b>Category:</b> History<br><br><b>Evidence:</b><br>Epigraphy and coinage; Purāṇic notice<br><br><b>Description:</b><br>Satavahanas identified as ‘Andhra’; inscriptions largely in Prakrit amidst Telugu-speaking substrate.<br><br><b>References:</b> [web:305][web:308][web:310]",
          "<b>First inscriptional Telugu word</b><br><b>Period:</b> ~250 CE<br><b>Category:</b> Epigraphy<br><br><b>Evidence:</b><br>Nagarjunakonda/Amaravati sphere; lexeme ‘Nagabu’ attested<br><br><b>Description:</b><br>Early Telugu lexeme in stone records marks transition to identifiable Telugu within inscriptions.<br><br><b>References:</b> [web:188][web:315]",
          "<b>Halmidi inscription (Kannada)</b><br><b>Period:</b> 450–500 CE<br><b>Category:</b> Epigraphy<br><br><b>Evidence:</b><br>Kadamba script; earliest Kannada-language epigraph<br><br><b>Description:</b><br>Demonstrates the early South-Western script continuum related to later Telugu-Kannada developments.<br><br><b>References:</b> [web:103][web:105][web:109]",
          "<b>First complete Telugu inscription</b><br><b>Period:</b> 575 CE<br><b>Category:</b> Epigraphy<br><br><b>Evidence:</b><br>Renati Chola records (Kadapa region)<br><br><b>Description:</b><br>Telugu becomes an administrative inscriptional language with full syntactic deployment.<br><br><b>References:</b> [web:104][web:180][web:188][web:110]",
          "<b>First coastal Andhra Telugu epigraph</b><br><b>Period:</b> ~633 CE<br><b>Category:</b> Epigraphy<br><br><b>Evidence:</b><br>Early Āndhradeśa corpus survey<br><br><b>Description:</b><br>Geographical expansion of written Telugu into coastal tracts is epigraphically visible.<br><br><b>References:</b> [web:183]",
          "<b>Earliest Telugu alphabet usage</b><br><b>Period:</b> 660 CE<br><b>Category:</b> Script<br><br><b>Evidence:</b><br>Vikramaditya I inscription; Sanskrit in Telugu-Kannada script<br><br><b>Description:</b><br>Shows early deployment of Telugu-Kannada glyph forms for writing non-Telugu language content.<br><br><b>References:</b> [web:186]",
          "<b>Telugu–Kannada unified script</b><br><b>Period:</b> 7th–11th c. CE<br><b>Category:</b> Script<br><br><b>Evidence:</b><br>Kadamba → Telugu-Kannada continuum; Eastern Chalukya diffusion<br><br><b>Description:</b><br>Shared akshara system serves both languages for several centuries before stylistic divergence.<br><br><b>References:</b> [web:21][web:42][web:49][web:85]",
          "<b>Nannaya’s Andhra Mahabharatam</b><br><b>Period:</b> 1054–1061 CE<br><b>Category:</b> Literature<br><br><b>Evidence:</b><br>Court patronage (Raja Raja Narendra); early champu style<br><br><b>Description:</b><br>Adi Kavi Nannaya inaugurates classical Telugu literature and codifies literary register.<br><br><b>References:</b> [web:215][web:222][web:224][web:212]",
          "<b>Separation of Telugu & Kannada scripts</b><br><b>Period:</b> 1100–1400 CE<br><b>Category:</b> Script<br><br><b>Evidence:</b><br>Paleographic drift; regional styles<br><br><b>Description:</b><br>Unified Telugu–Kannada script differentiates into distinct modern trajectories over three centuries.<br><br><b>References:</b> [web:21][web:85][web:87]",
          "<b>Tikkana continues Mahabharatam</b><br><b>Period:</b> 1205–1288 CE<br><b>Category:</b> Literature<br><br><b>Evidence:</b><br>Kakatiya-era literary expansion; Ubhaya Kavi Mitrudu<br><br><b>Description:</b><br>Translates 15 later parvas, sustaining high classical style and literary continuity.<br><br><b>References:</b> [web:213][web:216][web:219]",
          "<b>Errana completes Mahabharatam</b><br><b>Period:</b> 14th c. CE<br><b>Category:</b> Literature<br><br><b>Evidence:</b><br>Completion of Aranya Parvam remainder<br><br><b>Description:</b><br>Kavitrayam’s 300-year project defines Telugu classicism and autonomous literary identity.<br><br><b>References:</b> [web:222]",
          "<b>Vijayanagara classical efflorescence</b><br><b>Period:</b> 15th–16th c. CE<br><b>Category:</b> Literature<br><br><b>Evidence:</b><br>Ashtadiggajas; Peddana’s Manucharitramu<br><br><b>Description:</b><br>Telugu reaches classical zenith at imperial court with ornate prabandha tradition.<br><br><b>References:</b> [web:220][web:214][web:226]",
          "<b>Paravastu Chinnayasuri, Bala Vyakaranamu</b><br><b>Period:</b> 1806–1862 CE<br><b>Category:</b> Grammar<br><br><b>Evidence:</b><br>Paninian framing of Telugu; prescriptive codification<br><br><b>Description:</b><br>Standardizes Grandhika register and pedagogy; entrenches diglossia with Vyavaharika.<br><br><b>References:</b> [web:247][web:253][web:250]",
          "<b>C. P. Brown’s Telugu renaissance</b><br><b>Period:</b> 1840s–1880s<br><b>Category:</b> Lexicography<br><br><b>Evidence:</b><br>Dictionaries; manuscript rescue; critical editions<br><br><b>Description:</b><br>Systematic preservation and lexicographic standards prevent severe loss of classical corpus.<br><br><b>References:</b> [web:276][web:285][web:288]",
          "<b>Kandukuri Veeresalingam’s reform</b><br><b>Period:</b> 1848–1919<br><b>Category:</b> Modernity<br><br><b>Evidence:</b><br>First Telugu novel; widow remarriage; journals<br><br><b>Description:</b><br>Harnesses Telugu for social reform, women’s education, and modern prose.<br><br><b>References:</b> [web:277][web:283][web:289][web:274]",
          "<b>Bala Vyakaranamu in schools</b><br><b>Period:</b> 1858<br><b>Category:</b> Grammar<br><br><b>Evidence:</b><br>Educational standardization of prescriptive grammar<br><br><b>Description:</b><br>Codified norms pervade curricula, shaping prose and formal instruction.<br><br><b>References:</b> [web:250][web:247]",
          "<b>Gidugu Venkata Ramamurthy’s Vyavaharika</b><br><b>Period:</b> 1863–1940<br><b>Category:</b> Linguistics<br><br><b>Evidence:</b><br>Colloquial advocacy; Savara linguistics<br><br><b>Description:</b><br>Establishes linguistic democracy prioritizing spoken Telugu; August 29 observed as Telugu Language Day.<br><br><b>References:</b> [web:252][web:246][web:249][web:255]",
          "<b>Viswanatha Satyanarayana, Kavi Samraat</b><br><b>Period:</b> 1895–1976<br><b>Category:</b> Literature<br><br><b>Evidence:</b><br>Jnanpith 1970; classical meters in modern oeuvre<br><br><b>Description:</b><br>Demonstrates modern classical mastery with vast, genre-spanning contributions.<br><br><b>References:</b> [web:278][web:272][web:284]",
          "<b>Bhadriraju Krishnamurti’s Dravidian linguistics</b><br><b>Period:</b> 1928–2012<br><b>Category:</b> Linguistics<br><br><b>Evidence:</b><br>Telugu Verbal Bases (1961); The Dravidian Languages (2003)<br><br><b>Description:</b><br>Indigenous scholar synthesizes insider knowledge with rigorous comparative method.<br><br><b>References:</b> [web:245][web:251][web:263][web:232]",
          "<b>The Dravidian Languages (Cambridge)</b><br><b>Period:</b> 2003<br><b>Category:</b> Linguistics<br><br><b>Evidence:</b><br>Comprehensive synthesis; standard reference<br><br><b>Description:</b><br>Definitive framework for Dravidian comparative linguistics and Telugu’s place within it.<br><br><b>References:</b> [web:251][web:263]",
          "<b>Classical language policy begins</b><br><b>Period:</b> 2004<br><b>Category:</b> Policy<br><br><b>Evidence:</b><br>Government criteria; expert committee<br><br><b>Description:</b><br>Criteria codified for classical status; Tamil designated first under policy.<br><br><b>References:</b> [web:309][web:312]",
          "<b>Telugu recognized as Classical Language</b><br><b>Period:</b> 2008<br><b>Category:</b> Policy<br><br><b>Evidence:</b><br>Government notification; legal scrutiny later upheld<br><br><b>Description:</b><br>Documentation on antiquity, independent literature, and continuity secures classical status.<br><br><b>References:</b> [web:307][web:309][web:312][web:314]"
         ],
         "type": "scatter",
         "x": [
          0.5,
          0.5,
          0.5,
          0.5,
          0.5,
          0.5,
          0.5,
          0.5,
          0.5,
          0.5,
          0.5,
          0.5,
          0.5,
          0.5,
          0.5,
          0.5,
          0.5,
          0.5,
          0.5,
          0.5,
          0.5,
          0.5,
          0.5,
          0.5,
          0.5,
          0.5,
          0.5,
          0.5,
          0.5,
          0.5
         ],
         "y": {
          "bdata": "AAAAAAAAAACWexphuaehP5Z7GmG5p7E/YbmnEZZ7uj+WexphuafBP3waYbmnEcY/YbmnEZZ7yj9GWO5phOXOP5Z7GmG5p9E/Ccs9jbDc0z98GmG5pxHWP+5phOWeRtg/YbmnEZZ72j/UCMs9jbDcP0ZY7mmE5d4/3dMIyz2N4D+WexphuafhP08jLPc0wuI/Ccs9jbDc4z/Cck8jLPfkP3waYbmnEeY/NcJyTyMs5z/uaYTlnkboP6gRlnsaYek/YbmnEZZ76j8aYbmnEZbrP9QIyz2NsOw/jbDc0wjL7T9GWO5phOXuPwAAAAAAAPA/",
          "dtype": "f8"
         }
        },
        {
         "hovertemplate": "%{hovertext}<extra></extra>",
         "hovertext": [
          "<b>Proto-Dravidian period</b><br><b>Period:</b> ~4500 BCE (2500 BCE)<br><b>Category:</b> Linguistics<br><br><b>Evidence:</b><br>Bayesian phylogenetics; comparative-historical linguistics<br><br><b>Description:</b><br>Proto-Dravidian dated to ~4,500 years before present; linguistic reconstruction anchors Dravidian family origins.<br><br><b>References:</b> [web:240][web:251][web:187][web:184]",
          "<b>Proto-Dravidian homeland context</b><br><b>Period:</b> ~3000–2500 BCE<br><b>Category:</b> Archaeology<br><br><b>Evidence:</b><br>Archaeolinguistics; cultural lexicon (agriculture, metallurgy, ecology)<br><br><b>Description:</b><br>Lexical reconstructions imply Southern Neolithic cultural ecology in peninsular India.<br><br><b>References:</b> [web:184][web:187]",
          "<b>Telugu splits from Proto-Dravidian</b><br><b>Period:</b> 1500–1000 BCE<br><b>Category:</b> Linguistics<br><br><b>Evidence:</b><br>Comparative phonological reconstruction; family tree topology<br><br><b>Description:</b><br>Telugu diverges as South-Central Dravidian branch, distinct from Tamil branch.<br><br><b>References:</b> [web:240][web:251]",
          "<b>South Dravidian I–II split</b><br><b>Period:</b> ~1100 BCE<br><b>Category:</b> Linguistics<br><br><b>Evidence:</b><br>Phylogenetic dating; subgroup innovations<br><br><b>Description:</b><br>South Dravidian split (~1100 BCE) separates Telugu lineage from South Dravidian I (e.g., Tamil).<br><br><b>References:</b> [web:240][web:251]",
          "<b>Earliest Telugu lexemes in inscriptions</b><br><b>Period:</b> ~400–200 BCE<br><b>Category:</b> Epigraphy<br><br><b>Evidence:</b><br>Bhattiprolu casket inscriptions; paleographic analysis<br><br><b>Description:</b><br>Prakrit inscriptions in the Andhra region include Telugu words; Dravidian-oriented letter forms emerge.<br><br><b>References:</b> [web:179][web:183][web:18][web:69]",
          "<b>Andhra in Mauryan period</b><br><b>Period:</b> ~257 BCE<br><b>Category:</b> History<br><br><b>Evidence:</b><br>Classical references; regional historiography<br><br><b>Description:</b><br>‘Andhra’ appears as a regional-linguistic identity during/near Mauryan horizons.<br><br><b>References:</b> [web:184][web:190]",
          "<b>Bhattiprolu script innovations</b><br><b>Period:</b> 3rd–1st c. BCE<br><b>Category:</b> Script<br><br><b>Evidence:</b><br>Paleography; structural features (inherent vowel discarded; distinct glyphs)<br><br><b>Description:</b><br>Brahmi variant adapted for Dravidian phonology; inscriptions are in Prakrit though letterforms suit Dravidian.<br><br><b>References:</b> [web:2][web:18][web:69]",
          "<b>Tamil-Brahmi contemporaneity</b><br><b>Period:</b> 2nd c. BCE–3rd c. CE<br><b>Category:</b> Script<br><br><b>Evidence:</b><br>Southern Brahmi adaptations; Dravidian morphophonology in script<br><br><b>Description:</b><br>Parallel southern Brahmi stream evidences Dravidian-motivated orthographic reforms.<br><br><b>References:</b> [web:137]",
          "<b>Satavahana (Andhra) horizon</b><br><b>Period:</b> ~110 BCE–220 CE<br><b>Category:</b> History<br><br><b>Evidence:</b><br>Epigraphy and coinage; Purāṇic notice<br><br><b>Description:</b><br>Satavahanas identified as ‘Andhra’; inscriptions largely in Prakrit amidst Telugu-speaking substrate.<br><br><b>References:</b> [web:305][web:308][web:310]",
          "<b>First inscriptional Telugu word</b><br><b>Period:</b> ~250 CE<br><b>Category:</b> Epigraphy<br><br><b>Evidence:</b><br>Nagarjunakonda/Amaravati sphere; lexeme ‘Nagabu’ attested<br><br><b>Description:</b><br>Early Telugu lexeme in stone records marks transition to identifiable Telugu within inscriptions.<br><br><b>References:</b> [web:188][web:315]",
          "<b>Halmidi inscription (Kannada)</b><br><b>Period:</b> 450–500 CE<br><b>Category:</b> Epigraphy<br><br><b>Evidence:</b><br>Kadamba script; earliest Kannada-language epigraph<br><br><b>Description:</b><br>Demonstrates the early South-Western script continuum related to later Telugu-Kannada developments.<br><br><b>References:</b> [web:103][web:105][web:109]",
          "<b>First complete Telugu inscription</b><br><b>Period:</b> 575 CE<br><b>Category:</b> Epigraphy<br><br><b>Evidence:</b><br>Renati Chola records (Kadapa region)<br><br><b>Description:</b><br>Telugu becomes an administrative inscriptional language with full syntactic deployment.<br><br><b>References:</b> [web:104][web:180][web:188][web:110]",
          "<b>First coastal Andhra Telugu epigraph</b><br><b>Period:</b> ~633 CE<br><b>Category:</b> Epigraphy<br><br><b>Evidence:</b><br>Early Āndhradeśa corpus survey<br><br><b>Description:</b><br>Geographical expansion of written Telugu into coastal tracts is epigraphically visible.<br><br><b>References:</b> [web:183]",
          "<b>Earliest Telugu alphabet usage</b><br><b>Period:</b> 660 CE<br><b>Category:</b> Script<br><br><b>Evidence:</b><br>Vikramaditya I inscription; Sanskrit in Telugu-Kannada script<br><br><b>Description:</b><br>Shows early deployment of Telugu-Kannada glyph forms for writing non-Telugu language content.<br><br><b>References:</b> [web:186]",
          "<b>Telugu–Kannada unified script</b><br><b>Period:</b> 7th–11th c. CE<br><b>Category:</b> Script<br><br><b>Evidence:</b><br>Kadamba → Telugu-Kannada continuum; Eastern Chalukya diffusion<br><br><b>Description:</b><br>Shared akshara system serves both languages for several centuries before stylistic divergence.<br><br><b>References:</b> [web:21][web:42][web:49][web:85]",
          "<b>Nannaya’s Andhra Mahabharatam</b><br><b>Period:</b> 1054–1061 CE<br><b>Category:</b> Literature<br><br><b>Evidence:</b><br>Court patronage (Raja Raja Narendra); early champu style<br><br><b>Description:</b><br>Adi Kavi Nannaya inaugurates classical Telugu literature and codifies literary register.<br><br><b>References:</b> [web:215][web:222][web:224][web:212]",
          "<b>Separation of Telugu & Kannada scripts</b><br><b>Period:</b> 1100–1400 CE<br><b>Category:</b> Script<br><br><b>Evidence:</b><br>Paleographic drift; regional styles<br><br><b>Description:</b><br>Unified Telugu–Kannada script differentiates into distinct modern trajectories over three centuries.<br><br><b>References:</b> [web:21][web:85][web:87]",
          "<b>Tikkana continues Mahabharatam</b><br><b>Period:</b> 1205–1288 CE<br><b>Category:</b> Literature<br><br><b>Evidence:</b><br>Kakatiya-era literary expansion; Ubhaya Kavi Mitrudu<br><br><b>Description:</b><br>Translates 15 later parvas, sustaining high classical style and literary continuity.<br><br><b>References:</b> [web:213][web:216][web:219]",
          "<b>Errana completes Mahabharatam</b><br><b>Period:</b> 14th c. CE<br><b>Category:</b> Literature<br><br><b>Evidence:</b><br>Completion of Aranya Parvam remainder<br><br><b>Description:</b><br>Kavitrayam’s 300-year project defines Telugu classicism and autonomous literary identity.<br><br><b>References:</b> [web:222]",
          "<b>Vijayanagara classical efflorescence</b><br><b>Period:</b> 15th–16th c. CE<br><b>Category:</b> Literature<br><br><b>Evidence:</b><br>Ashtadiggajas; Peddana’s Manucharitramu<br><br><b>Description:</b><br>Telugu reaches classical zenith at imperial court with ornate prabandha tradition.<br><br><b>References:</b> [web:220][web:214][web:226]",
          "<b>Paravastu Chinnayasuri, Bala Vyakaranamu</b><br><b>Period:</b> 1806–1862 CE<br><b>Category:</b> Grammar<br><br><b>Evidence:</b><br>Paninian framing of Telugu; prescriptive codification<br><br><b>Description:</b><br>Standardizes Grandhika register and pedagogy; entrenches diglossia with Vyavaharika.<br><br><b>References:</b> [web:247][web:253][web:250]",
          "<b>C. P. Brown’s Telugu renaissance</b><br><b>Period:</b> 1840s–1880s<br><b>Category:</b> Lexicography<br><br><b>Evidence:</b><br>Dictionaries; manuscript rescue; critical editions<br><br><b>Description:</b><br>Systematic preservation and lexicographic standards prevent severe loss of classical corpus.<br><br><b>References:</b> [web:276][web:285][web:288]",
          "<b>Kandukuri Veeresalingam’s reform</b><br><b>Period:</b> 1848–1919<br><b>Category:</b> Modernity<br><br><b>Evidence:</b><br>First Telugu novel; widow remarriage; journals<br><br><b>Description:</b><br>Harnesses Telugu for social reform, women’s education, and modern prose.<br><br><b>References:</b> [web:277][web:283][web:289][web:274]",
          "<b>Bala Vyakaranamu in schools</b><br><b>Period:</b> 1858<br><b>Category:</b> Grammar<br><br><b>Evidence:</b><br>Educational standardization of prescriptive grammar<br><br><b>Description:</b><br>Codified norms pervade curricula, shaping prose and formal instruction.<br><br><b>References:</b> [web:250][web:247]",
          "<b>Gidugu Venkata Ramamurthy’s Vyavaharika</b><br><b>Period:</b> 1863–1940<br><b>Category:</b> Linguistics<br><br><b>Evidence:</b><br>Colloquial advocacy; Savara linguistics<br><br><b>Description:</b><br>Establishes linguistic democracy prioritizing spoken Telugu; August 29 observed as Telugu Language Day.<br><br><b>References:</b> [web:252][web:246][web:249][web:255]",
          "<b>Viswanatha Satyanarayana, Kavi Samraat</b><br><b>Period:</b> 1895–1976<br><b>Category:</b> Literature<br><br><b>Evidence:</b><br>Jnanpith 1970; classical meters in modern oeuvre<br><br><b>Description:</b><br>Demonstrates modern classical mastery with vast, genre-spanning contributions.<br><br><b>References:</b> [web:278][web:272][web:284]",
          "<b>Bhadriraju Krishnamurti’s Dravidian linguistics</b><br><b>Period:</b> 1928–2012<br><b>Category:</b> Linguistics<br><br><b>Evidence:</b><br>Telugu Verbal Bases (1961); The Dravidian Languages (2003)<br><br><b>Description:</b><br>Indigenous scholar synthesizes insider knowledge with rigorous comparative method.<br><br><b>References:</b> [web:245][web:251][web:263][web:232]",
          "<b>The Dravidian Languages (Cambridge)</b><br><b>Period:</b> 2003<br><b>Category:</b> Linguistics<br><br><b>Evidence:</b><br>Comprehensive synthesis; standard reference<br><br><b>Description:</b><br>Definitive framework for Dravidian comparative linguistics and Telugu’s place within it.<br><br><b>References:</b> [web:251][web:263]",
          "<b>Classical language policy begins</b><br><b>Period:</b> 2004<br><b>Category:</b> Policy<br><br><b>Evidence:</b><br>Government criteria; expert committee<br><br><b>Description:</b><br>Criteria codified for classical status; Tamil designated first under policy.<br><br><b>References:</b> [web:309][web:312]",
          "<b>Telugu recognized as Classical Language</b><br><b>Period:</b> 2008<br><b>Category:</b> Policy<br><br><b>Evidence:</b><br>Government notification; legal scrutiny later upheld<br><br><b>Description:</b><br>Documentation on antiquity, independent literature, and continuity secures classical status.<br><br><b>References:</b> [web:307][web:309][web:312][web:314]"
         ],
         "marker": {
          "color": [
           "#3949ab",
           "#5e35b1",
           "#3949ab",
           "#3949ab",
           "#00897b",
           "#6d4c41",
           "#1e88e5",
           "#1e88e5",
           "#6d4c41",
           "#00897b",
           "#00897b",
           "#00897b",
           "#00897b",
           "#1e88e5",
           "#1e88e5",
           "#c2185b",
           "#1e88e5",
           "#c2185b",
           "#c2185b",
           "#c2185b",
           "#8e24aa",
           "#039be5",
           "#fb8c00",
           "#8e24aa",
           "#3949ab",
           "#c2185b",
           "#3949ab",
           "#3949ab",
           "#7cb342",
           "#7cb342"
          ],
          "line": {
           "color": "white",
           "width": 1.5
          },
          "size": 12
         },
         "mode": "markers+text",
         "showlegend": false,
         "text": [
          "<b>Proto-Dravidian period</b><br>~4500 BCE (2500 BCE)",
          "<b>Proto-Dravidian homeland context</b><br>~3000–2500 BCE",
          "<b>Telugu splits from Proto-Dravidian</b><br>1500–1000 BCE",
          "<b>South Dravidian I–II split</b><br>~1100 BCE",
          "<b>Earliest Telugu lexemes in inscriptions</b><br>~400–200 BCE",
          "<b>Andhra in Mauryan period</b><br>~257 BCE",
          "<b>Bhattiprolu script innovations</b><br>3rd–1st c. BCE",
          "<b>Tamil-Brahmi contemporaneity</b><br>2nd c. BCE–3rd c. CE",
          "<b>Satavahana (Andhra) horizon</b><br>~110 BCE–220 CE",
          "<b>First inscriptional Telugu word</b><br>~250 CE",
          "<b>Halmidi inscription (Kannada)</b><br>450–500 CE",
          "<b>First complete Telugu inscription</b><br>575 CE",
          "<b>First coastal Andhra Telugu epigraph</b><br>~633 CE",
          "<b>Earliest Telugu alphabet usage</b><br>660 CE",
          "<b>Telugu–Kannada unified script</b><br>7th–11th c. CE",
          "<b>Nannaya’s Andhra Mahabharatam</b><br>1054–1061 CE",
          "<b>Separation of Telugu & Kannada scripts</b><br>1100–1400 CE",
          "<b>Tikkana continues Mahabharatam</b><br>1205–1288 CE",
          "<b>Errana completes Mahabharatam</b><br>14th c. CE",
          "<b>Vijayanagara classical efflorescence</b><br>15th–16th c. CE",
          "<b>Paravastu Chinnayasuri, Bala Vyakaranamu</b><br>1806–1862 CE",
          "<b>C. P. Brown’s Telugu renaissance</b><br>1840s–1880s",
          "<b>Kandukuri Veeresalingam’s reform</b><br>1848–1919",
          "<b>Bala Vyakaranamu in schools</b><br>1858",
          "<b>Gidugu Venkata Ramamurthy’s Vyavaharika</b><br>1863–1940",
          "<b>Viswanatha Satyanarayana, Kavi Samraat</b><br>1895–1976",
          "<b>Bhadriraju Krishnamurti’s Dravidian linguistics</b><br>1928–2012",
          "<b>The Dravidian Languages (Cambridge)</b><br>2003",
          "<b>Classical language policy begins</b><br>2004",
          "<b>Telugu recognized as Classical Language</b><br>2008"
         ],
         "textfont": {
          "color": "#263238",
          "family": "Arial",
          "size": 10
         },
         "textposition": [
          "middle left",
          "middle right",
          "middle left",
          "middle right",
          "middle left",
          "middle right",
          "middle left",
          "middle right",
          "middle left",
          "middle right",
          "middle left",
          "middle right",
          "middle left",
          "middle right",
          "middle left",
          "middle right",
          "middle left",
          "middle right",
          "middle left",
          "middle right",
          "middle left",
          "middle right",
          "middle left",
          "middle right",
          "middle left",
          "middle right",
          "middle left",
          "middle right",
          "middle left",
          "middle right"
         ],
         "type": "scatter",
         "x": {
          "bdata": "MzMzMzMz6z80MzMzMzPDPzMzMzMzM+s/NDMzMzMzwz8zMzMzMzPrPzQzMzMzM8M/MzMzMzMz6z80MzMzMzPDPzMzMzMzM+s/NDMzMzMzwz8zMzMzMzPrPzQzMzMzM8M/MzMzMzMz6z80MzMzMzPDPzMzMzMzM+s/NDMzMzMzwz8zMzMzMzPrPzQzMzMzM8M/MzMzMzMz6z80MzMzMzPDPzMzMzMzM+s/NDMzMzMzwz8zMzMzMzPrPzQzMzMzM8M/MzMzMzMz6z80MzMzMzPDPzMzMzMzM+s/NDMzMzMzwz8zMzMzMzPrPzQzMzMzM8M/",
          "dtype": "f8"
         },
         "y": {
          "bdata": "AAAAAAAAAACWexphuaehP5Z7GmG5p7E/YbmnEZZ7uj+WexphuafBP3waYbmnEcY/YbmnEZZ7yj9GWO5phOXOP5Z7GmG5p9E/Ccs9jbDc0z98GmG5pxHWP+5phOWeRtg/YbmnEZZ72j/UCMs9jbDcP0ZY7mmE5d4/3dMIyz2N4D+WexphuafhP08jLPc0wuI/Ccs9jbDc4z/Cck8jLPfkP3waYbmnEeY/NcJyTyMs5z/uaYTlnkboP6gRlnsaYek/YbmnEZZ76j8aYbmnEZbrP9QIyz2NsOw/jbDc0wjL7T9GWO5phOXuPwAAAAAAAPA/",
          "dtype": "f8"
         }
        }
       ],
       "layout": {
        "template": {
         "data": {
          "bar": [
           {
            "error_x": {
             "color": "#2a3f5f"
            },
            "error_y": {
             "color": "#2a3f5f"
            },
            "marker": {
             "line": {
              "color": "#E5ECF6",
              "width": 0.5
             },
             "pattern": {
              "fillmode": "overlay",
              "size": 10,
              "solidity": 0.2
             }
            },
            "type": "bar"
           }
          ],
          "barpolar": [
           {
            "marker": {
             "line": {
              "color": "#E5ECF6",
              "width": 0.5
             },
             "pattern": {
              "fillmode": "overlay",
              "size": 10,
              "solidity": 0.2
             }
            },
            "type": "barpolar"
           }
          ],
          "carpet": [
           {
            "aaxis": {
             "endlinecolor": "#2a3f5f",
             "gridcolor": "white",
             "linecolor": "white",
             "minorgridcolor": "white",
             "startlinecolor": "#2a3f5f"
            },
            "baxis": {
             "endlinecolor": "#2a3f5f",
             "gridcolor": "white",
             "linecolor": "white",
             "minorgridcolor": "white",
             "startlinecolor": "#2a3f5f"
            },
            "type": "carpet"
           }
          ],
          "choropleth": [
           {
            "colorbar": {
             "outlinewidth": 0,
             "ticks": ""
            },
            "type": "choropleth"
           }
          ],
          "contour": [
           {
            "colorbar": {
             "outlinewidth": 0,
             "ticks": ""
            },
            "colorscale": [
             [
              0,
              "#0d0887"
             ],
             [
              0.1111111111111111,
              "#46039f"
             ],
             [
              0.2222222222222222,
              "#7201a8"
             ],
             [
              0.3333333333333333,
              "#9c179e"
             ],
             [
              0.4444444444444444,
              "#bd3786"
             ],
             [
              0.5555555555555556,
              "#d8576b"
             ],
             [
              0.6666666666666666,
              "#ed7953"
             ],
             [
              0.7777777777777778,
              "#fb9f3a"
             ],
             [
              0.8888888888888888,
              "#fdca26"
             ],
             [
              1,
              "#f0f921"
             ]
            ],
            "type": "contour"
           }
          ],
          "contourcarpet": [
           {
            "colorbar": {
             "outlinewidth": 0,
             "ticks": ""
            },
            "type": "contourcarpet"
           }
          ],
          "heatmap": [
           {
            "colorbar": {
             "outlinewidth": 0,
             "ticks": ""
            },
            "colorscale": [
             [
              0,
              "#0d0887"
             ],
             [
              0.1111111111111111,
              "#46039f"
             ],
             [
              0.2222222222222222,
              "#7201a8"
             ],
             [
              0.3333333333333333,
              "#9c179e"
             ],
             [
              0.4444444444444444,
              "#bd3786"
             ],
             [
              0.5555555555555556,
              "#d8576b"
             ],
             [
              0.6666666666666666,
              "#ed7953"
             ],
             [
              0.7777777777777778,
              "#fb9f3a"
             ],
             [
              0.8888888888888888,
              "#fdca26"
             ],
             [
              1,
              "#f0f921"
             ]
            ],
            "type": "heatmap"
           }
          ],
          "histogram": [
           {
            "marker": {
             "pattern": {
              "fillmode": "overlay",
              "size": 10,
              "solidity": 0.2
             }
            },
            "type": "histogram"
           }
          ],
          "histogram2d": [
           {
            "colorbar": {
             "outlinewidth": 0,
             "ticks": ""
            },
            "colorscale": [
             [
              0,
              "#0d0887"
             ],
             [
              0.1111111111111111,
              "#46039f"
             ],
             [
              0.2222222222222222,
              "#7201a8"
             ],
             [
              0.3333333333333333,
              "#9c179e"
             ],
             [
              0.4444444444444444,
              "#bd3786"
             ],
             [
              0.5555555555555556,
              "#d8576b"
             ],
             [
              0.6666666666666666,
              "#ed7953"
             ],
             [
              0.7777777777777778,
              "#fb9f3a"
             ],
             [
              0.8888888888888888,
              "#fdca26"
             ],
             [
              1,
              "#f0f921"
             ]
            ],
            "type": "histogram2d"
           }
          ],
          "histogram2dcontour": [
           {
            "colorbar": {
             "outlinewidth": 0,
             "ticks": ""
            },
            "colorscale": [
             [
              0,
              "#0d0887"
             ],
             [
              0.1111111111111111,
              "#46039f"
             ],
             [
              0.2222222222222222,
              "#7201a8"
             ],
             [
              0.3333333333333333,
              "#9c179e"
             ],
             [
              0.4444444444444444,
              "#bd3786"
             ],
             [
              0.5555555555555556,
              "#d8576b"
             ],
             [
              0.6666666666666666,
              "#ed7953"
             ],
             [
              0.7777777777777778,
              "#fb9f3a"
             ],
             [
              0.8888888888888888,
              "#fdca26"
             ],
             [
              1,
              "#f0f921"
             ]
            ],
            "type": "histogram2dcontour"
           }
          ],
          "mesh3d": [
           {
            "colorbar": {
             "outlinewidth": 0,
             "ticks": ""
            },
            "type": "mesh3d"
           }
          ],
          "parcoords": [
           {
            "line": {
             "colorbar": {
              "outlinewidth": 0,
              "ticks": ""
             }
            },
            "type": "parcoords"
           }
          ],
          "pie": [
           {
            "automargin": true,
            "type": "pie"
           }
          ],
          "scatter": [
           {
            "fillpattern": {
             "fillmode": "overlay",
             "size": 10,
             "solidity": 0.2
            },
            "type": "scatter"
           }
          ],
          "scatter3d": [
           {
            "line": {
             "colorbar": {
              "outlinewidth": 0,
              "ticks": ""
             }
            },
            "marker": {
             "colorbar": {
              "outlinewidth": 0,
              "ticks": ""
             }
            },
            "type": "scatter3d"
           }
          ],
          "scattercarpet": [
           {
            "marker": {
             "colorbar": {
              "outlinewidth": 0,
              "ticks": ""
             }
            },
            "type": "scattercarpet"
           }
          ],
          "scattergeo": [
           {
            "marker": {
             "colorbar": {
              "outlinewidth": 0,
              "ticks": ""
             }
            },
            "type": "scattergeo"
           }
          ],
          "scattergl": [
           {
            "marker": {
             "colorbar": {
              "outlinewidth": 0,
              "ticks": ""
             }
            },
            "type": "scattergl"
           }
          ],
          "scattermap": [
           {
            "marker": {
             "colorbar": {
              "outlinewidth": 0,
              "ticks": ""
             }
            },
            "type": "scattermap"
           }
          ],
          "scattermapbox": [
           {
            "marker": {
             "colorbar": {
              "outlinewidth": 0,
              "ticks": ""
             }
            },
            "type": "scattermapbox"
           }
          ],
          "scatterpolar": [
           {
            "marker": {
             "colorbar": {
              "outlinewidth": 0,
              "ticks": ""
             }
            },
            "type": "scatterpolar"
           }
          ],
          "scatterpolargl": [
           {
            "marker": {
             "colorbar": {
              "outlinewidth": 0,
              "ticks": ""
             }
            },
            "type": "scatterpolargl"
           }
          ],
          "scatterternary": [
           {
            "marker": {
             "colorbar": {
              "outlinewidth": 0,
              "ticks": ""
             }
            },
            "type": "scatterternary"
           }
          ],
          "surface": [
           {
            "colorbar": {
             "outlinewidth": 0,
             "ticks": ""
            },
            "colorscale": [
             [
              0,
              "#0d0887"
             ],
             [
              0.1111111111111111,
              "#46039f"
             ],
             [
              0.2222222222222222,
              "#7201a8"
             ],
             [
              0.3333333333333333,
              "#9c179e"
             ],
             [
              0.4444444444444444,
              "#bd3786"
             ],
             [
              0.5555555555555556,
              "#d8576b"
             ],
             [
              0.6666666666666666,
              "#ed7953"
             ],
             [
              0.7777777777777778,
              "#fb9f3a"
             ],
             [
              0.8888888888888888,
              "#fdca26"
             ],
             [
              1,
              "#f0f921"
             ]
            ],
            "type": "surface"
           }
          ],
          "table": [
           {
            "cells": {
             "fill": {
              "color": "#EBF0F8"
             },
             "line": {
              "color": "white"
             }
            },
            "header": {
             "fill": {
              "color": "#C8D4E3"
             },
             "line": {
              "color": "white"
             }
            },
            "type": "table"
           }
          ]
         },
         "layout": {
          "annotationdefaults": {
           "arrowcolor": "#2a3f5f",
           "arrowhead": 0,
           "arrowwidth": 1
          },
          "autotypenumbers": "strict",
          "coloraxis": {
           "colorbar": {
            "outlinewidth": 0,
            "ticks": ""
           }
          },
          "colorscale": {
           "diverging": [
            [
             0,
             "#8e0152"
            ],
            [
             0.1,
             "#c51b7d"
            ],
            [
             0.2,
             "#de77ae"
            ],
            [
             0.3,
             "#f1b6da"
            ],
            [
             0.4,
             "#fde0ef"
            ],
            [
             0.5,
             "#f7f7f7"
            ],
            [
             0.6,
             "#e6f5d0"
            ],
            [
             0.7,
             "#b8e186"
            ],
            [
             0.8,
             "#7fbc41"
            ],
            [
             0.9,
             "#4d9221"
            ],
            [
             1,
             "#276419"
            ]
           ],
           "sequential": [
            [
             0,
             "#0d0887"
            ],
            [
             0.1111111111111111,
             "#46039f"
            ],
            [
             0.2222222222222222,
             "#7201a8"
            ],
            [
             0.3333333333333333,
             "#9c179e"
            ],
            [
             0.4444444444444444,
             "#bd3786"
            ],
            [
             0.5555555555555556,
             "#d8576b"
            ],
            [
             0.6666666666666666,
             "#ed7953"
            ],
            [
             0.7777777777777778,
             "#fb9f3a"
            ],
            [
             0.8888888888888888,
             "#fdca26"
            ],
            [
             1,
             "#f0f921"
            ]
           ],
           "sequentialminus": [
            [
             0,
             "#0d0887"
            ],
            [
             0.1111111111111111,
             "#46039f"
            ],
            [
             0.2222222222222222,
             "#7201a8"
            ],
            [
             0.3333333333333333,
             "#9c179e"
            ],
            [
             0.4444444444444444,
             "#bd3786"
            ],
            [
             0.5555555555555556,
             "#d8576b"
            ],
            [
             0.6666666666666666,
             "#ed7953"
            ],
            [
             0.7777777777777778,
             "#fb9f3a"
            ],
            [
             0.8888888888888888,
             "#fdca26"
            ],
            [
             1,
             "#f0f921"
            ]
           ]
          },
          "colorway": [
           "#636efa",
           "#EF553B",
           "#00cc96",
           "#ab63fa",
           "#FFA15A",
           "#19d3f3",
           "#FF6692",
           "#B6E880",
           "#FF97FF",
           "#FECB52"
          ],
          "font": {
           "color": "#2a3f5f"
          },
          "geo": {
           "bgcolor": "white",
           "lakecolor": "white",
           "landcolor": "#E5ECF6",
           "showlakes": true,
           "showland": true,
           "subunitcolor": "white"
          },
          "hoverlabel": {
           "align": "left"
          },
          "hovermode": "closest",
          "mapbox": {
           "style": "light"
          },
          "paper_bgcolor": "white",
          "plot_bgcolor": "#E5ECF6",
          "polar": {
           "angularaxis": {
            "gridcolor": "white",
            "linecolor": "white",
            "ticks": ""
           },
           "bgcolor": "#E5ECF6",
           "radialaxis": {
            "gridcolor": "white",
            "linecolor": "white",
            "ticks": ""
           }
          },
          "scene": {
           "xaxis": {
            "backgroundcolor": "#E5ECF6",
            "gridcolor": "white",
            "gridwidth": 2,
            "linecolor": "white",
            "showbackground": true,
            "ticks": "",
            "zerolinecolor": "white"
           },
           "yaxis": {
            "backgroundcolor": "#E5ECF6",
            "gridcolor": "white",
            "gridwidth": 2,
            "linecolor": "white",
            "showbackground": true,
            "ticks": "",
            "zerolinecolor": "white"
           },
           "zaxis": {
            "backgroundcolor": "#E5ECF6",
            "gridcolor": "white",
            "gridwidth": 2,
            "linecolor": "white",
            "showbackground": true,
            "ticks": "",
            "zerolinecolor": "white"
           }
          },
          "shapedefaults": {
           "line": {
            "color": "#2a3f5f"
           }
          },
          "ternary": {
           "aaxis": {
            "gridcolor": "white",
            "linecolor": "white",
            "ticks": ""
           },
           "baxis": {
            "gridcolor": "white",
            "linecolor": "white",
            "ticks": ""
           },
           "bgcolor": "#E5ECF6",
           "caxis": {
            "gridcolor": "white",
            "linecolor": "white",
            "ticks": ""
           }
          },
          "title": {
           "x": 0.05
          },
          "xaxis": {
           "automargin": true,
           "gridcolor": "white",
           "linecolor": "white",
           "ticks": "",
           "title": {
            "standoff": 15
           },
           "zerolinecolor": "white",
           "zerolinewidth": 2
          },
          "yaxis": {
           "automargin": true,
           "gridcolor": "white",
           "linecolor": "white",
           "ticks": "",
           "title": {
            "standoff": 15
           },
           "zerolinecolor": "white",
           "zerolinewidth": 2
          }
         }
        }
       }
      }
     },
     "metadata": {},
     "output_type": "display_data"
    }
   ],
   "source": [
    "# 5. Label markers (compact display, HOVER for details)\n",
    "fig.add_trace(go.Scatter(\n",
    "    x=df[\"x_label\"], y=df[\"y_pos\"],\n",
    "    mode='markers+text',\n",
    "    marker=dict(size=12, color=df[\"color\"], \n",
    "                line=dict(color='white', width=1.5)),\n",
    "    text=df[\"display_text\"],\n",
    "    textposition=['middle left' if s > 0 else 'middle right' for s in df[\"side\"]],\n",
    "    textfont=dict(size=10, family='Arial', color='#263238'),\n",
    "    hovertext=df[\"hover_text\"],\n",
    "    hovertemplate='%{hovertext}<extra></extra>',\n",
    "    showlegend=False\n",
    "))\n",
    "\n"
   ]
  },
  {
   "cell_type": "code",
   "execution_count": 9,
   "id": "cfae8e3e",
   "metadata": {},
   "outputs": [
    {
     "data": {
      "application/vnd.plotly.v1+json": {
       "config": {
        "plotlyServerURL": "https://plot.ly"
       },
       "data": [
        {
         "hoverinfo": "skip",
         "line": {
          "color": "#546e7a",
          "width": 4
         },
         "mode": "lines",
         "showlegend": false,
         "type": "scatter",
         "x": [
          0.5,
          0.5
         ],
         "y": [
          0,
          1
         ]
        },
        {
         "hoverinfo": "skip",
         "line": {
          "color": "#3949ab",
          "dash": "dot",
          "width": 2
         },
         "mode": "lines",
         "showlegend": false,
         "type": "scatter",
         "x": [
          0.5,
          0.85
         ],
         "y": [
          0,
          0
         ]
        },
        {
         "hoverinfo": "skip",
         "line": {
          "color": "#5e35b1",
          "dash": "dot",
          "width": 2
         },
         "mode": "lines",
         "showlegend": false,
         "type": "scatter",
         "x": [
          0.5,
          0.15000000000000002
         ],
         "y": [
          0.034482758620689655,
          0.034482758620689655
         ]
        },
        {
         "hoverinfo": "skip",
         "line": {
          "color": "#3949ab",
          "dash": "dot",
          "width": 2
         },
         "mode": "lines",
         "showlegend": false,
         "type": "scatter",
         "x": [
          0.5,
          0.85
         ],
         "y": [
          0.06896551724137931,
          0.06896551724137931
         ]
        },
        {
         "hoverinfo": "skip",
         "line": {
          "color": "#3949ab",
          "dash": "dot",
          "width": 2
         },
         "mode": "lines",
         "showlegend": false,
         "type": "scatter",
         "x": [
          0.5,
          0.15000000000000002
         ],
         "y": [
          0.10344827586206896,
          0.10344827586206896
         ]
        },
        {
         "hoverinfo": "skip",
         "line": {
          "color": "#00897b",
          "dash": "dot",
          "width": 2
         },
         "mode": "lines",
         "showlegend": false,
         "type": "scatter",
         "x": [
          0.5,
          0.85
         ],
         "y": [
          0.13793103448275862,
          0.13793103448275862
         ]
        },
        {
         "hoverinfo": "skip",
         "line": {
          "color": "#6d4c41",
          "dash": "dot",
          "width": 2
         },
         "mode": "lines",
         "showlegend": false,
         "type": "scatter",
         "x": [
          0.5,
          0.15000000000000002
         ],
         "y": [
          0.1724137931034483,
          0.1724137931034483
         ]
        },
        {
         "hoverinfo": "skip",
         "line": {
          "color": "#1e88e5",
          "dash": "dot",
          "width": 2
         },
         "mode": "lines",
         "showlegend": false,
         "type": "scatter",
         "x": [
          0.5,
          0.85
         ],
         "y": [
          0.20689655172413793,
          0.20689655172413793
         ]
        },
        {
         "hoverinfo": "skip",
         "line": {
          "color": "#1e88e5",
          "dash": "dot",
          "width": 2
         },
         "mode": "lines",
         "showlegend": false,
         "type": "scatter",
         "x": [
          0.5,
          0.15000000000000002
         ],
         "y": [
          0.24137931034482757,
          0.24137931034482757
         ]
        },
        {
         "hoverinfo": "skip",
         "line": {
          "color": "#6d4c41",
          "dash": "dot",
          "width": 2
         },
         "mode": "lines",
         "showlegend": false,
         "type": "scatter",
         "x": [
          0.5,
          0.85
         ],
         "y": [
          0.27586206896551724,
          0.27586206896551724
         ]
        },
        {
         "hoverinfo": "skip",
         "line": {
          "color": "#00897b",
          "dash": "dot",
          "width": 2
         },
         "mode": "lines",
         "showlegend": false,
         "type": "scatter",
         "x": [
          0.5,
          0.15000000000000002
         ],
         "y": [
          0.3103448275862069,
          0.3103448275862069
         ]
        },
        {
         "hoverinfo": "skip",
         "line": {
          "color": "#00897b",
          "dash": "dot",
          "width": 2
         },
         "mode": "lines",
         "showlegend": false,
         "type": "scatter",
         "x": [
          0.5,
          0.85
         ],
         "y": [
          0.3448275862068966,
          0.3448275862068966
         ]
        },
        {
         "hoverinfo": "skip",
         "line": {
          "color": "#00897b",
          "dash": "dot",
          "width": 2
         },
         "mode": "lines",
         "showlegend": false,
         "type": "scatter",
         "x": [
          0.5,
          0.15000000000000002
         ],
         "y": [
          0.3793103448275862,
          0.3793103448275862
         ]
        },
        {
         "hoverinfo": "skip",
         "line": {
          "color": "#00897b",
          "dash": "dot",
          "width": 2
         },
         "mode": "lines",
         "showlegend": false,
         "type": "scatter",
         "x": [
          0.5,
          0.85
         ],
         "y": [
          0.41379310344827586,
          0.41379310344827586
         ]
        },
        {
         "hoverinfo": "skip",
         "line": {
          "color": "#1e88e5",
          "dash": "dot",
          "width": 2
         },
         "mode": "lines",
         "showlegend": false,
         "type": "scatter",
         "x": [
          0.5,
          0.15000000000000002
         ],
         "y": [
          0.4482758620689655,
          0.4482758620689655
         ]
        },
        {
         "hoverinfo": "skip",
         "line": {
          "color": "#1e88e5",
          "dash": "dot",
          "width": 2
         },
         "mode": "lines",
         "showlegend": false,
         "type": "scatter",
         "x": [
          0.5,
          0.85
         ],
         "y": [
          0.48275862068965514,
          0.48275862068965514
         ]
        },
        {
         "hoverinfo": "skip",
         "line": {
          "color": "#c2185b",
          "dash": "dot",
          "width": 2
         },
         "mode": "lines",
         "showlegend": false,
         "type": "scatter",
         "x": [
          0.5,
          0.15000000000000002
         ],
         "y": [
          0.5172413793103449,
          0.5172413793103449
         ]
        },
        {
         "hoverinfo": "skip",
         "line": {
          "color": "#1e88e5",
          "dash": "dot",
          "width": 2
         },
         "mode": "lines",
         "showlegend": false,
         "type": "scatter",
         "x": [
          0.5,
          0.85
         ],
         "y": [
          0.5517241379310345,
          0.5517241379310345
         ]
        },
        {
         "hoverinfo": "skip",
         "line": {
          "color": "#c2185b",
          "dash": "dot",
          "width": 2
         },
         "mode": "lines",
         "showlegend": false,
         "type": "scatter",
         "x": [
          0.5,
          0.15000000000000002
         ],
         "y": [
          0.5862068965517241,
          0.5862068965517241
         ]
        },
        {
         "hoverinfo": "skip",
         "line": {
          "color": "#c2185b",
          "dash": "dot",
          "width": 2
         },
         "mode": "lines",
         "showlegend": false,
         "type": "scatter",
         "x": [
          0.5,
          0.85
         ],
         "y": [
          0.6206896551724138,
          0.6206896551724138
         ]
        },
        {
         "hoverinfo": "skip",
         "line": {
          "color": "#c2185b",
          "dash": "dot",
          "width": 2
         },
         "mode": "lines",
         "showlegend": false,
         "type": "scatter",
         "x": [
          0.5,
          0.15000000000000002
         ],
         "y": [
          0.6551724137931034,
          0.6551724137931034
         ]
        },
        {
         "hoverinfo": "skip",
         "line": {
          "color": "#8e24aa",
          "dash": "dot",
          "width": 2
         },
         "mode": "lines",
         "showlegend": false,
         "type": "scatter",
         "x": [
          0.5,
          0.85
         ],
         "y": [
          0.6896551724137931,
          0.6896551724137931
         ]
        },
        {
         "hoverinfo": "skip",
         "line": {
          "color": "#039be5",
          "dash": "dot",
          "width": 2
         },
         "mode": "lines",
         "showlegend": false,
         "type": "scatter",
         "x": [
          0.5,
          0.15000000000000002
         ],
         "y": [
          0.7241379310344828,
          0.7241379310344828
         ]
        },
        {
         "hoverinfo": "skip",
         "line": {
          "color": "#fb8c00",
          "dash": "dot",
          "width": 2
         },
         "mode": "lines",
         "showlegend": false,
         "type": "scatter",
         "x": [
          0.5,
          0.85
         ],
         "y": [
          0.7586206896551724,
          0.7586206896551724
         ]
        },
        {
         "hoverinfo": "skip",
         "line": {
          "color": "#8e24aa",
          "dash": "dot",
          "width": 2
         },
         "mode": "lines",
         "showlegend": false,
         "type": "scatter",
         "x": [
          0.5,
          0.15000000000000002
         ],
         "y": [
          0.7931034482758621,
          0.7931034482758621
         ]
        },
        {
         "hoverinfo": "skip",
         "line": {
          "color": "#3949ab",
          "dash": "dot",
          "width": 2
         },
         "mode": "lines",
         "showlegend": false,
         "type": "scatter",
         "x": [
          0.5,
          0.85
         ],
         "y": [
          0.8275862068965517,
          0.8275862068965517
         ]
        },
        {
         "hoverinfo": "skip",
         "line": {
          "color": "#c2185b",
          "dash": "dot",
          "width": 2
         },
         "mode": "lines",
         "showlegend": false,
         "type": "scatter",
         "x": [
          0.5,
          0.15000000000000002
         ],
         "y": [
          0.8620689655172413,
          0.8620689655172413
         ]
        },
        {
         "hoverinfo": "skip",
         "line": {
          "color": "#3949ab",
          "dash": "dot",
          "width": 2
         },
         "mode": "lines",
         "showlegend": false,
         "type": "scatter",
         "x": [
          0.5,
          0.85
         ],
         "y": [
          0.896551724137931,
          0.896551724137931
         ]
        },
        {
         "hoverinfo": "skip",
         "line": {
          "color": "#3949ab",
          "dash": "dot",
          "width": 2
         },
         "mode": "lines",
         "showlegend": false,
         "type": "scatter",
         "x": [
          0.5,
          0.15000000000000002
         ],
         "y": [
          0.9310344827586207,
          0.9310344827586207
         ]
        },
        {
         "hoverinfo": "skip",
         "line": {
          "color": "#7cb342",
          "dash": "dot",
          "width": 2
         },
         "mode": "lines",
         "showlegend": false,
         "type": "scatter",
         "x": [
          0.5,
          0.85
         ],
         "y": [
          0.9655172413793103,
          0.9655172413793103
         ]
        },
        {
         "hoverinfo": "skip",
         "line": {
          "color": "#7cb342",
          "dash": "dot",
          "width": 2
         },
         "mode": "lines",
         "showlegend": false,
         "type": "scatter",
         "x": [
          0.5,
          0.15000000000000002
         ],
         "y": [
          1,
          1
         ]
        },
        {
         "hovertemplate": "%{text}<extra></extra>",
         "marker": {
          "color": [
           "#3949ab",
           "#5e35b1",
           "#3949ab",
           "#3949ab",
           "#00897b",
           "#6d4c41",
           "#1e88e5",
           "#1e88e5",
           "#6d4c41",
           "#00897b",
           "#00897b",
           "#00897b",
           "#00897b",
           "#1e88e5",
           "#1e88e5",
           "#c2185b",
           "#1e88e5",
           "#c2185b",
           "#c2185b",
           "#c2185b",
           "#8e24aa",
           "#039be5",
           "#fb8c00",
           "#8e24aa",
           "#3949ab",
           "#c2185b",
           "#3949ab",
           "#3949ab",
           "#7cb342",
           "#7cb342"
          ],
          "line": {
           "color": "white",
           "width": 2
          },
          "size": 18
         },
         "mode": "markers",
         "showlegend": false,
         "text": [
          "<b>Proto-Dravidian period</b><br><b>Period:</b> ~4500 BCE (2500 BCE)<br><b>Category:</b> Linguistics<br><br><b>Evidence:</b><br>Bayesian phylogenetics; comparative-historical linguistics<br><br><b>Description:</b><br>Proto-Dravidian dated to ~4,500 years before present; linguistic reconstruction anchors Dravidian family origins.<br><br><b>References:</b> [web:240][web:251][web:187][web:184]",
          "<b>Proto-Dravidian homeland context</b><br><b>Period:</b> ~3000–2500 BCE<br><b>Category:</b> Archaeology<br><br><b>Evidence:</b><br>Archaeolinguistics; cultural lexicon (agriculture, metallurgy, ecology)<br><br><b>Description:</b><br>Lexical reconstructions imply Southern Neolithic cultural ecology in peninsular India.<br><br><b>References:</b> [web:184][web:187]",
          "<b>Telugu splits from Proto-Dravidian</b><br><b>Period:</b> 1500–1000 BCE<br><b>Category:</b> Linguistics<br><br><b>Evidence:</b><br>Comparative phonological reconstruction; family tree topology<br><br><b>Description:</b><br>Telugu diverges as South-Central Dravidian branch, distinct from Tamil branch.<br><br><b>References:</b> [web:240][web:251]",
          "<b>South Dravidian I–II split</b><br><b>Period:</b> ~1100 BCE<br><b>Category:</b> Linguistics<br><br><b>Evidence:</b><br>Phylogenetic dating; subgroup innovations<br><br><b>Description:</b><br>South Dravidian split (~1100 BCE) separates Telugu lineage from South Dravidian I (e.g., Tamil).<br><br><b>References:</b> [web:240][web:251]",
          "<b>Earliest Telugu lexemes in inscriptions</b><br><b>Period:</b> ~400–200 BCE<br><b>Category:</b> Epigraphy<br><br><b>Evidence:</b><br>Bhattiprolu casket inscriptions; paleographic analysis<br><br><b>Description:</b><br>Prakrit inscriptions in the Andhra region include Telugu words; Dravidian-oriented letter forms emerge.<br><br><b>References:</b> [web:179][web:183][web:18][web:69]",
          "<b>Andhra in Mauryan period</b><br><b>Period:</b> ~257 BCE<br><b>Category:</b> History<br><br><b>Evidence:</b><br>Classical references; regional historiography<br><br><b>Description:</b><br>‘Andhra’ appears as a regional-linguistic identity during/near Mauryan horizons.<br><br><b>References:</b> [web:184][web:190]",
          "<b>Bhattiprolu script innovations</b><br><b>Period:</b> 3rd–1st c. BCE<br><b>Category:</b> Script<br><br><b>Evidence:</b><br>Paleography; structural features (inherent vowel discarded; distinct glyphs)<br><br><b>Description:</b><br>Brahmi variant adapted for Dravidian phonology; inscriptions are in Prakrit though letterforms suit Dravidian.<br><br><b>References:</b> [web:2][web:18][web:69]",
          "<b>Tamil-Brahmi contemporaneity</b><br><b>Period:</b> 2nd c. BCE–3rd c. CE<br><b>Category:</b> Script<br><br><b>Evidence:</b><br>Southern Brahmi adaptations; Dravidian morphophonology in script<br><br><b>Description:</b><br>Parallel southern Brahmi stream evidences Dravidian-motivated orthographic reforms.<br><br><b>References:</b> [web:137]",
          "<b>Satavahana (Andhra) horizon</b><br><b>Period:</b> ~110 BCE–220 CE<br><b>Category:</b> History<br><br><b>Evidence:</b><br>Epigraphy and coinage; Purāṇic notice<br><br><b>Description:</b><br>Satavahanas identified as ‘Andhra’; inscriptions largely in Prakrit amidst Telugu-speaking substrate.<br><br><b>References:</b> [web:305][web:308][web:310]",
          "<b>First inscriptional Telugu word</b><br><b>Period:</b> ~250 CE<br><b>Category:</b> Epigraphy<br><br><b>Evidence:</b><br>Nagarjunakonda/Amaravati sphere; lexeme ‘Nagabu’ attested<br><br><b>Description:</b><br>Early Telugu lexeme in stone records marks transition to identifiable Telugu within inscriptions.<br><br><b>References:</b> [web:188][web:315]",
          "<b>Halmidi inscription (Kannada)</b><br><b>Period:</b> 450–500 CE<br><b>Category:</b> Epigraphy<br><br><b>Evidence:</b><br>Kadamba script; earliest Kannada-language epigraph<br><br><b>Description:</b><br>Demonstrates the early South-Western script continuum related to later Telugu-Kannada developments.<br><br><b>References:</b> [web:103][web:105][web:109]",
          "<b>First complete Telugu inscription</b><br><b>Period:</b> 575 CE<br><b>Category:</b> Epigraphy<br><br><b>Evidence:</b><br>Renati Chola records (Kadapa region)<br><br><b>Description:</b><br>Telugu becomes an administrative inscriptional language with full syntactic deployment.<br><br><b>References:</b> [web:104][web:180][web:188][web:110]",
          "<b>First coastal Andhra Telugu epigraph</b><br><b>Period:</b> ~633 CE<br><b>Category:</b> Epigraphy<br><br><b>Evidence:</b><br>Early Āndhradeśa corpus survey<br><br><b>Description:</b><br>Geographical expansion of written Telugu into coastal tracts is epigraphically visible.<br><br><b>References:</b> [web:183]",
          "<b>Earliest Telugu alphabet usage</b><br><b>Period:</b> 660 CE<br><b>Category:</b> Script<br><br><b>Evidence:</b><br>Vikramaditya I inscription; Sanskrit in Telugu-Kannada script<br><br><b>Description:</b><br>Shows early deployment of Telugu-Kannada glyph forms for writing non-Telugu language content.<br><br><b>References:</b> [web:186]",
          "<b>Telugu–Kannada unified script</b><br><b>Period:</b> 7th–11th c. CE<br><b>Category:</b> Script<br><br><b>Evidence:</b><br>Kadamba → Telugu-Kannada continuum; Eastern Chalukya diffusion<br><br><b>Description:</b><br>Shared akshara system serves both languages for several centuries before stylistic divergence.<br><br><b>References:</b> [web:21][web:42][web:49][web:85]",
          "<b>Nannaya’s Andhra Mahabharatam</b><br><b>Period:</b> 1054–1061 CE<br><b>Category:</b> Literature<br><br><b>Evidence:</b><br>Court patronage (Raja Raja Narendra); early champu style<br><br><b>Description:</b><br>Adi Kavi Nannaya inaugurates classical Telugu literature and codifies literary register.<br><br><b>References:</b> [web:215][web:222][web:224][web:212]",
          "<b>Separation of Telugu & Kannada scripts</b><br><b>Period:</b> 1100–1400 CE<br><b>Category:</b> Script<br><br><b>Evidence:</b><br>Paleographic drift; regional styles<br><br><b>Description:</b><br>Unified Telugu–Kannada script differentiates into distinct modern trajectories over three centuries.<br><br><b>References:</b> [web:21][web:85][web:87]",
          "<b>Tikkana continues Mahabharatam</b><br><b>Period:</b> 1205–1288 CE<br><b>Category:</b> Literature<br><br><b>Evidence:</b><br>Kakatiya-era literary expansion; Ubhaya Kavi Mitrudu<br><br><b>Description:</b><br>Translates 15 later parvas, sustaining high classical style and literary continuity.<br><br><b>References:</b> [web:213][web:216][web:219]",
          "<b>Errana completes Mahabharatam</b><br><b>Period:</b> 14th c. CE<br><b>Category:</b> Literature<br><br><b>Evidence:</b><br>Completion of Aranya Parvam remainder<br><br><b>Description:</b><br>Kavitrayam’s 300-year project defines Telugu classicism and autonomous literary identity.<br><br><b>References:</b> [web:222]",
          "<b>Vijayanagara classical efflorescence</b><br><b>Period:</b> 15th–16th c. CE<br><b>Category:</b> Literature<br><br><b>Evidence:</b><br>Ashtadiggajas; Peddana’s Manucharitramu<br><br><b>Description:</b><br>Telugu reaches classical zenith at imperial court with ornate prabandha tradition.<br><br><b>References:</b> [web:220][web:214][web:226]",
          "<b>Paravastu Chinnayasuri, Bala Vyakaranamu</b><br><b>Period:</b> 1806–1862 CE<br><b>Category:</b> Grammar<br><br><b>Evidence:</b><br>Paninian framing of Telugu; prescriptive codification<br><br><b>Description:</b><br>Standardizes Grandhika register and pedagogy; entrenches diglossia with Vyavaharika.<br><br><b>References:</b> [web:247][web:253][web:250]",
          "<b>C. P. Brown’s Telugu renaissance</b><br><b>Period:</b> 1840s–1880s<br><b>Category:</b> Lexicography<br><br><b>Evidence:</b><br>Dictionaries; manuscript rescue; critical editions<br><br><b>Description:</b><br>Systematic preservation and lexicographic standards prevent severe loss of classical corpus.<br><br><b>References:</b> [web:276][web:285][web:288]",
          "<b>Kandukuri Veeresalingam’s reform</b><br><b>Period:</b> 1848–1919<br><b>Category:</b> Modernity<br><br><b>Evidence:</b><br>First Telugu novel; widow remarriage; journals<br><br><b>Description:</b><br>Harnesses Telugu for social reform, women’s education, and modern prose.<br><br><b>References:</b> [web:277][web:283][web:289][web:274]",
          "<b>Bala Vyakaranamu in schools</b><br><b>Period:</b> 1858<br><b>Category:</b> Grammar<br><br><b>Evidence:</b><br>Educational standardization of prescriptive grammar<br><br><b>Description:</b><br>Codified norms pervade curricula, shaping prose and formal instruction.<br><br><b>References:</b> [web:250][web:247]",
          "<b>Gidugu Venkata Ramamurthy’s Vyavaharika</b><br><b>Period:</b> 1863–1940<br><b>Category:</b> Linguistics<br><br><b>Evidence:</b><br>Colloquial advocacy; Savara linguistics<br><br><b>Description:</b><br>Establishes linguistic democracy prioritizing spoken Telugu; August 29 observed as Telugu Language Day.<br><br><b>References:</b> [web:252][web:246][web:249][web:255]",
          "<b>Viswanatha Satyanarayana, Kavi Samraat</b><br><b>Period:</b> 1895–1976<br><b>Category:</b> Literature<br><br><b>Evidence:</b><br>Jnanpith 1970; classical meters in modern oeuvre<br><br><b>Description:</b><br>Demonstrates modern classical mastery with vast, genre-spanning contributions.<br><br><b>References:</b> [web:278][web:272][web:284]",
          "<b>Bhadriraju Krishnamurti’s Dravidian linguistics</b><br><b>Period:</b> 1928–2012<br><b>Category:</b> Linguistics<br><br><b>Evidence:</b><br>Telugu Verbal Bases (1961); The Dravidian Languages (2003)<br><br><b>Description:</b><br>Indigenous scholar synthesizes insider knowledge with rigorous comparative method.<br><br><b>References:</b> [web:245][web:251][web:263][web:232]",
          "<b>The Dravidian Languages (Cambridge)</b><br><b>Period:</b> 2003<br><b>Category:</b> Linguistics<br><br><b>Evidence:</b><br>Comprehensive synthesis; standard reference<br><br><b>Description:</b><br>Definitive framework for Dravidian comparative linguistics and Telugu’s place within it.<br><br><b>References:</b> [web:251][web:263]",
          "<b>Classical language policy begins</b><br><b>Period:</b> 2004<br><b>Category:</b> Policy<br><br><b>Evidence:</b><br>Government criteria; expert committee<br><br><b>Description:</b><br>Criteria codified for classical status; Tamil designated first under policy.<br><br><b>References:</b> [web:309][web:312]",
          "<b>Telugu recognized as Classical Language</b><br><b>Period:</b> 2008<br><b>Category:</b> Policy<br><br><b>Evidence:</b><br>Government notification; legal scrutiny later upheld<br><br><b>Description:</b><br>Documentation on antiquity, independent literature, and continuity secures classical status.<br><br><b>References:</b> [web:307][web:309][web:312][web:314]"
         ],
         "type": "scatter",
         "x": [
          0.5,
          0.5,
          0.5,
          0.5,
          0.5,
          0.5,
          0.5,
          0.5,
          0.5,
          0.5,
          0.5,
          0.5,
          0.5,
          0.5,
          0.5,
          0.5,
          0.5,
          0.5,
          0.5,
          0.5,
          0.5,
          0.5,
          0.5,
          0.5,
          0.5,
          0.5,
          0.5,
          0.5,
          0.5,
          0.5
         ],
         "y": {
          "bdata": "AAAAAAAAAACWexphuaehP5Z7GmG5p7E/YbmnEZZ7uj+WexphuafBP3waYbmnEcY/YbmnEZZ7yj9GWO5phOXOP5Z7GmG5p9E/Ccs9jbDc0z98GmG5pxHWP+5phOWeRtg/YbmnEZZ72j/UCMs9jbDcP0ZY7mmE5d4/3dMIyz2N4D+WexphuafhP08jLPc0wuI/Ccs9jbDc4z/Cck8jLPfkP3waYbmnEeY/NcJyTyMs5z/uaYTlnkboP6gRlnsaYek/YbmnEZZ76j8aYbmnEZbrP9QIyz2NsOw/jbDc0wjL7T9GWO5phOXuPwAAAAAAAPA/",
          "dtype": "f8"
         }
        },
        {
         "hovertemplate": "%{hovertext}<extra></extra>",
         "hovertext": [
          "<b>Proto-Dravidian period</b><br><b>Period:</b> ~4500 BCE (2500 BCE)<br><b>Category:</b> Linguistics<br><br><b>Evidence:</b><br>Bayesian phylogenetics; comparative-historical linguistics<br><br><b>Description:</b><br>Proto-Dravidian dated to ~4,500 years before present; linguistic reconstruction anchors Dravidian family origins.<br><br><b>References:</b> [web:240][web:251][web:187][web:184]",
          "<b>Proto-Dravidian homeland context</b><br><b>Period:</b> ~3000–2500 BCE<br><b>Category:</b> Archaeology<br><br><b>Evidence:</b><br>Archaeolinguistics; cultural lexicon (agriculture, metallurgy, ecology)<br><br><b>Description:</b><br>Lexical reconstructions imply Southern Neolithic cultural ecology in peninsular India.<br><br><b>References:</b> [web:184][web:187]",
          "<b>Telugu splits from Proto-Dravidian</b><br><b>Period:</b> 1500–1000 BCE<br><b>Category:</b> Linguistics<br><br><b>Evidence:</b><br>Comparative phonological reconstruction; family tree topology<br><br><b>Description:</b><br>Telugu diverges as South-Central Dravidian branch, distinct from Tamil branch.<br><br><b>References:</b> [web:240][web:251]",
          "<b>South Dravidian I–II split</b><br><b>Period:</b> ~1100 BCE<br><b>Category:</b> Linguistics<br><br><b>Evidence:</b><br>Phylogenetic dating; subgroup innovations<br><br><b>Description:</b><br>South Dravidian split (~1100 BCE) separates Telugu lineage from South Dravidian I (e.g., Tamil).<br><br><b>References:</b> [web:240][web:251]",
          "<b>Earliest Telugu lexemes in inscriptions</b><br><b>Period:</b> ~400–200 BCE<br><b>Category:</b> Epigraphy<br><br><b>Evidence:</b><br>Bhattiprolu casket inscriptions; paleographic analysis<br><br><b>Description:</b><br>Prakrit inscriptions in the Andhra region include Telugu words; Dravidian-oriented letter forms emerge.<br><br><b>References:</b> [web:179][web:183][web:18][web:69]",
          "<b>Andhra in Mauryan period</b><br><b>Period:</b> ~257 BCE<br><b>Category:</b> History<br><br><b>Evidence:</b><br>Classical references; regional historiography<br><br><b>Description:</b><br>‘Andhra’ appears as a regional-linguistic identity during/near Mauryan horizons.<br><br><b>References:</b> [web:184][web:190]",
          "<b>Bhattiprolu script innovations</b><br><b>Period:</b> 3rd–1st c. BCE<br><b>Category:</b> Script<br><br><b>Evidence:</b><br>Paleography; structural features (inherent vowel discarded; distinct glyphs)<br><br><b>Description:</b><br>Brahmi variant adapted for Dravidian phonology; inscriptions are in Prakrit though letterforms suit Dravidian.<br><br><b>References:</b> [web:2][web:18][web:69]",
          "<b>Tamil-Brahmi contemporaneity</b><br><b>Period:</b> 2nd c. BCE–3rd c. CE<br><b>Category:</b> Script<br><br><b>Evidence:</b><br>Southern Brahmi adaptations; Dravidian morphophonology in script<br><br><b>Description:</b><br>Parallel southern Brahmi stream evidences Dravidian-motivated orthographic reforms.<br><br><b>References:</b> [web:137]",
          "<b>Satavahana (Andhra) horizon</b><br><b>Period:</b> ~110 BCE–220 CE<br><b>Category:</b> History<br><br><b>Evidence:</b><br>Epigraphy and coinage; Purāṇic notice<br><br><b>Description:</b><br>Satavahanas identified as ‘Andhra’; inscriptions largely in Prakrit amidst Telugu-speaking substrate.<br><br><b>References:</b> [web:305][web:308][web:310]",
          "<b>First inscriptional Telugu word</b><br><b>Period:</b> ~250 CE<br><b>Category:</b> Epigraphy<br><br><b>Evidence:</b><br>Nagarjunakonda/Amaravati sphere; lexeme ‘Nagabu’ attested<br><br><b>Description:</b><br>Early Telugu lexeme in stone records marks transition to identifiable Telugu within inscriptions.<br><br><b>References:</b> [web:188][web:315]",
          "<b>Halmidi inscription (Kannada)</b><br><b>Period:</b> 450–500 CE<br><b>Category:</b> Epigraphy<br><br><b>Evidence:</b><br>Kadamba script; earliest Kannada-language epigraph<br><br><b>Description:</b><br>Demonstrates the early South-Western script continuum related to later Telugu-Kannada developments.<br><br><b>References:</b> [web:103][web:105][web:109]",
          "<b>First complete Telugu inscription</b><br><b>Period:</b> 575 CE<br><b>Category:</b> Epigraphy<br><br><b>Evidence:</b><br>Renati Chola records (Kadapa region)<br><br><b>Description:</b><br>Telugu becomes an administrative inscriptional language with full syntactic deployment.<br><br><b>References:</b> [web:104][web:180][web:188][web:110]",
          "<b>First coastal Andhra Telugu epigraph</b><br><b>Period:</b> ~633 CE<br><b>Category:</b> Epigraphy<br><br><b>Evidence:</b><br>Early Āndhradeśa corpus survey<br><br><b>Description:</b><br>Geographical expansion of written Telugu into coastal tracts is epigraphically visible.<br><br><b>References:</b> [web:183]",
          "<b>Earliest Telugu alphabet usage</b><br><b>Period:</b> 660 CE<br><b>Category:</b> Script<br><br><b>Evidence:</b><br>Vikramaditya I inscription; Sanskrit in Telugu-Kannada script<br><br><b>Description:</b><br>Shows early deployment of Telugu-Kannada glyph forms for writing non-Telugu language content.<br><br><b>References:</b> [web:186]",
          "<b>Telugu–Kannada unified script</b><br><b>Period:</b> 7th–11th c. CE<br><b>Category:</b> Script<br><br><b>Evidence:</b><br>Kadamba → Telugu-Kannada continuum; Eastern Chalukya diffusion<br><br><b>Description:</b><br>Shared akshara system serves both languages for several centuries before stylistic divergence.<br><br><b>References:</b> [web:21][web:42][web:49][web:85]",
          "<b>Nannaya’s Andhra Mahabharatam</b><br><b>Period:</b> 1054–1061 CE<br><b>Category:</b> Literature<br><br><b>Evidence:</b><br>Court patronage (Raja Raja Narendra); early champu style<br><br><b>Description:</b><br>Adi Kavi Nannaya inaugurates classical Telugu literature and codifies literary register.<br><br><b>References:</b> [web:215][web:222][web:224][web:212]",
          "<b>Separation of Telugu & Kannada scripts</b><br><b>Period:</b> 1100–1400 CE<br><b>Category:</b> Script<br><br><b>Evidence:</b><br>Paleographic drift; regional styles<br><br><b>Description:</b><br>Unified Telugu–Kannada script differentiates into distinct modern trajectories over three centuries.<br><br><b>References:</b> [web:21][web:85][web:87]",
          "<b>Tikkana continues Mahabharatam</b><br><b>Period:</b> 1205–1288 CE<br><b>Category:</b> Literature<br><br><b>Evidence:</b><br>Kakatiya-era literary expansion; Ubhaya Kavi Mitrudu<br><br><b>Description:</b><br>Translates 15 later parvas, sustaining high classical style and literary continuity.<br><br><b>References:</b> [web:213][web:216][web:219]",
          "<b>Errana completes Mahabharatam</b><br><b>Period:</b> 14th c. CE<br><b>Category:</b> Literature<br><br><b>Evidence:</b><br>Completion of Aranya Parvam remainder<br><br><b>Description:</b><br>Kavitrayam’s 300-year project defines Telugu classicism and autonomous literary identity.<br><br><b>References:</b> [web:222]",
          "<b>Vijayanagara classical efflorescence</b><br><b>Period:</b> 15th–16th c. CE<br><b>Category:</b> Literature<br><br><b>Evidence:</b><br>Ashtadiggajas; Peddana’s Manucharitramu<br><br><b>Description:</b><br>Telugu reaches classical zenith at imperial court with ornate prabandha tradition.<br><br><b>References:</b> [web:220][web:214][web:226]",
          "<b>Paravastu Chinnayasuri, Bala Vyakaranamu</b><br><b>Period:</b> 1806–1862 CE<br><b>Category:</b> Grammar<br><br><b>Evidence:</b><br>Paninian framing of Telugu; prescriptive codification<br><br><b>Description:</b><br>Standardizes Grandhika register and pedagogy; entrenches diglossia with Vyavaharika.<br><br><b>References:</b> [web:247][web:253][web:250]",
          "<b>C. P. Brown’s Telugu renaissance</b><br><b>Period:</b> 1840s–1880s<br><b>Category:</b> Lexicography<br><br><b>Evidence:</b><br>Dictionaries; manuscript rescue; critical editions<br><br><b>Description:</b><br>Systematic preservation and lexicographic standards prevent severe loss of classical corpus.<br><br><b>References:</b> [web:276][web:285][web:288]",
          "<b>Kandukuri Veeresalingam’s reform</b><br><b>Period:</b> 1848–1919<br><b>Category:</b> Modernity<br><br><b>Evidence:</b><br>First Telugu novel; widow remarriage; journals<br><br><b>Description:</b><br>Harnesses Telugu for social reform, women’s education, and modern prose.<br><br><b>References:</b> [web:277][web:283][web:289][web:274]",
          "<b>Bala Vyakaranamu in schools</b><br><b>Period:</b> 1858<br><b>Category:</b> Grammar<br><br><b>Evidence:</b><br>Educational standardization of prescriptive grammar<br><br><b>Description:</b><br>Codified norms pervade curricula, shaping prose and formal instruction.<br><br><b>References:</b> [web:250][web:247]",
          "<b>Gidugu Venkata Ramamurthy’s Vyavaharika</b><br><b>Period:</b> 1863–1940<br><b>Category:</b> Linguistics<br><br><b>Evidence:</b><br>Colloquial advocacy; Savara linguistics<br><br><b>Description:</b><br>Establishes linguistic democracy prioritizing spoken Telugu; August 29 observed as Telugu Language Day.<br><br><b>References:</b> [web:252][web:246][web:249][web:255]",
          "<b>Viswanatha Satyanarayana, Kavi Samraat</b><br><b>Period:</b> 1895–1976<br><b>Category:</b> Literature<br><br><b>Evidence:</b><br>Jnanpith 1970; classical meters in modern oeuvre<br><br><b>Description:</b><br>Demonstrates modern classical mastery with vast, genre-spanning contributions.<br><br><b>References:</b> [web:278][web:272][web:284]",
          "<b>Bhadriraju Krishnamurti’s Dravidian linguistics</b><br><b>Period:</b> 1928–2012<br><b>Category:</b> Linguistics<br><br><b>Evidence:</b><br>Telugu Verbal Bases (1961); The Dravidian Languages (2003)<br><br><b>Description:</b><br>Indigenous scholar synthesizes insider knowledge with rigorous comparative method.<br><br><b>References:</b> [web:245][web:251][web:263][web:232]",
          "<b>The Dravidian Languages (Cambridge)</b><br><b>Period:</b> 2003<br><b>Category:</b> Linguistics<br><br><b>Evidence:</b><br>Comprehensive synthesis; standard reference<br><br><b>Description:</b><br>Definitive framework for Dravidian comparative linguistics and Telugu’s place within it.<br><br><b>References:</b> [web:251][web:263]",
          "<b>Classical language policy begins</b><br><b>Period:</b> 2004<br><b>Category:</b> Policy<br><br><b>Evidence:</b><br>Government criteria; expert committee<br><br><b>Description:</b><br>Criteria codified for classical status; Tamil designated first under policy.<br><br><b>References:</b> [web:309][web:312]",
          "<b>Telugu recognized as Classical Language</b><br><b>Period:</b> 2008<br><b>Category:</b> Policy<br><br><b>Evidence:</b><br>Government notification; legal scrutiny later upheld<br><br><b>Description:</b><br>Documentation on antiquity, independent literature, and continuity secures classical status.<br><br><b>References:</b> [web:307][web:309][web:312][web:314]"
         ],
         "marker": {
          "color": [
           "#3949ab",
           "#5e35b1",
           "#3949ab",
           "#3949ab",
           "#00897b",
           "#6d4c41",
           "#1e88e5",
           "#1e88e5",
           "#6d4c41",
           "#00897b",
           "#00897b",
           "#00897b",
           "#00897b",
           "#1e88e5",
           "#1e88e5",
           "#c2185b",
           "#1e88e5",
           "#c2185b",
           "#c2185b",
           "#c2185b",
           "#8e24aa",
           "#039be5",
           "#fb8c00",
           "#8e24aa",
           "#3949ab",
           "#c2185b",
           "#3949ab",
           "#3949ab",
           "#7cb342",
           "#7cb342"
          ],
          "line": {
           "color": "white",
           "width": 1.5
          },
          "size": 12
         },
         "mode": "markers+text",
         "showlegend": false,
         "text": [
          "<b>Proto-Dravidian period</b><br>~4500 BCE (2500 BCE)",
          "<b>Proto-Dravidian homeland context</b><br>~3000–2500 BCE",
          "<b>Telugu splits from Proto-Dravidian</b><br>1500–1000 BCE",
          "<b>South Dravidian I–II split</b><br>~1100 BCE",
          "<b>Earliest Telugu lexemes in inscriptions</b><br>~400–200 BCE",
          "<b>Andhra in Mauryan period</b><br>~257 BCE",
          "<b>Bhattiprolu script innovations</b><br>3rd–1st c. BCE",
          "<b>Tamil-Brahmi contemporaneity</b><br>2nd c. BCE–3rd c. CE",
          "<b>Satavahana (Andhra) horizon</b><br>~110 BCE–220 CE",
          "<b>First inscriptional Telugu word</b><br>~250 CE",
          "<b>Halmidi inscription (Kannada)</b><br>450–500 CE",
          "<b>First complete Telugu inscription</b><br>575 CE",
          "<b>First coastal Andhra Telugu epigraph</b><br>~633 CE",
          "<b>Earliest Telugu alphabet usage</b><br>660 CE",
          "<b>Telugu–Kannada unified script</b><br>7th–11th c. CE",
          "<b>Nannaya’s Andhra Mahabharatam</b><br>1054–1061 CE",
          "<b>Separation of Telugu & Kannada scripts</b><br>1100–1400 CE",
          "<b>Tikkana continues Mahabharatam</b><br>1205–1288 CE",
          "<b>Errana completes Mahabharatam</b><br>14th c. CE",
          "<b>Vijayanagara classical efflorescence</b><br>15th–16th c. CE",
          "<b>Paravastu Chinnayasuri, Bala Vyakaranamu</b><br>1806–1862 CE",
          "<b>C. P. Brown’s Telugu renaissance</b><br>1840s–1880s",
          "<b>Kandukuri Veeresalingam’s reform</b><br>1848–1919",
          "<b>Bala Vyakaranamu in schools</b><br>1858",
          "<b>Gidugu Venkata Ramamurthy’s Vyavaharika</b><br>1863–1940",
          "<b>Viswanatha Satyanarayana, Kavi Samraat</b><br>1895–1976",
          "<b>Bhadriraju Krishnamurti’s Dravidian linguistics</b><br>1928–2012",
          "<b>The Dravidian Languages (Cambridge)</b><br>2003",
          "<b>Classical language policy begins</b><br>2004",
          "<b>Telugu recognized as Classical Language</b><br>2008"
         ],
         "textfont": {
          "color": "#263238",
          "family": "Arial",
          "size": 10
         },
         "textposition": [
          "middle left",
          "middle right",
          "middle left",
          "middle right",
          "middle left",
          "middle right",
          "middle left",
          "middle right",
          "middle left",
          "middle right",
          "middle left",
          "middle right",
          "middle left",
          "middle right",
          "middle left",
          "middle right",
          "middle left",
          "middle right",
          "middle left",
          "middle right",
          "middle left",
          "middle right",
          "middle left",
          "middle right",
          "middle left",
          "middle right",
          "middle left",
          "middle right",
          "middle left",
          "middle right"
         ],
         "type": "scatter",
         "x": {
          "bdata": "MzMzMzMz6z80MzMzMzPDPzMzMzMzM+s/NDMzMzMzwz8zMzMzMzPrPzQzMzMzM8M/MzMzMzMz6z80MzMzMzPDPzMzMzMzM+s/NDMzMzMzwz8zMzMzMzPrPzQzMzMzM8M/MzMzMzMz6z80MzMzMzPDPzMzMzMzM+s/NDMzMzMzwz8zMzMzMzPrPzQzMzMzM8M/MzMzMzMz6z80MzMzMzPDPzMzMzMzM+s/NDMzMzMzwz8zMzMzMzPrPzQzMzMzM8M/MzMzMzMz6z80MzMzMzPDPzMzMzMzM+s/NDMzMzMzwz8zMzMzMzPrPzQzMzMzM8M/",
          "dtype": "f8"
         },
         "y": {
          "bdata": "AAAAAAAAAACWexphuaehP5Z7GmG5p7E/YbmnEZZ7uj+WexphuafBP3waYbmnEcY/YbmnEZZ7yj9GWO5phOXOP5Z7GmG5p9E/Ccs9jbDc0z98GmG5pxHWP+5phOWeRtg/YbmnEZZ72j/UCMs9jbDcP0ZY7mmE5d4/3dMIyz2N4D+WexphuafhP08jLPc0wuI/Ccs9jbDc4z/Cck8jLPfkP3waYbmnEeY/NcJyTyMs5z/uaYTlnkboP6gRlnsaYek/YbmnEZZ76j8aYbmnEZbrP9QIyz2NsOw/jbDc0wjL7T9GWO5phOXuPwAAAAAAAPA/",
          "dtype": "f8"
         }
        },
        {
         "hoverinfo": "skip",
         "marker": {
          "color": "#3949ab",
          "line": {
           "color": "white",
           "width": 1
          },
          "size": 14
         },
         "mode": "markers",
         "name": "Linguistics",
         "type": "scatter",
         "x": [
          null
         ],
         "y": [
          null
         ]
        },
        {
         "hoverinfo": "skip",
         "marker": {
          "color": "#5e35b1",
          "line": {
           "color": "white",
           "width": 1
          },
          "size": 14
         },
         "mode": "markers",
         "name": "Archaeology",
         "type": "scatter",
         "x": [
          null
         ],
         "y": [
          null
         ]
        },
        {
         "hoverinfo": "skip",
         "marker": {
          "color": "#00897b",
          "line": {
           "color": "white",
           "width": 1
          },
          "size": 14
         },
         "mode": "markers",
         "name": "Epigraphy",
         "type": "scatter",
         "x": [
          null
         ],
         "y": [
          null
         ]
        },
        {
         "hoverinfo": "skip",
         "marker": {
          "color": "#1e88e5",
          "line": {
           "color": "white",
           "width": 1
          },
          "size": 14
         },
         "mode": "markers",
         "name": "Script",
         "type": "scatter",
         "x": [
          null
         ],
         "y": [
          null
         ]
        },
        {
         "hoverinfo": "skip",
         "marker": {
          "color": "#6d4c41",
          "line": {
           "color": "white",
           "width": 1
          },
          "size": 14
         },
         "mode": "markers",
         "name": "History",
         "type": "scatter",
         "x": [
          null
         ],
         "y": [
          null
         ]
        },
        {
         "hoverinfo": "skip",
         "marker": {
          "color": "#c2185b",
          "line": {
           "color": "white",
           "width": 1
          },
          "size": 14
         },
         "mode": "markers",
         "name": "Literature",
         "type": "scatter",
         "x": [
          null
         ],
         "y": [
          null
         ]
        },
        {
         "hoverinfo": "skip",
         "marker": {
          "color": "#8e24aa",
          "line": {
           "color": "white",
           "width": 1
          },
          "size": 14
         },
         "mode": "markers",
         "name": "Grammar",
         "type": "scatter",
         "x": [
          null
         ],
         "y": [
          null
         ]
        },
        {
         "hoverinfo": "skip",
         "marker": {
          "color": "#039be5",
          "line": {
           "color": "white",
           "width": 1
          },
          "size": 14
         },
         "mode": "markers",
         "name": "Lexicography",
         "type": "scatter",
         "x": [
          null
         ],
         "y": [
          null
         ]
        },
        {
         "hoverinfo": "skip",
         "marker": {
          "color": "#fb8c00",
          "line": {
           "color": "white",
           "width": 1
          },
          "size": 14
         },
         "mode": "markers",
         "name": "Modernity",
         "type": "scatter",
         "x": [
          null
         ],
         "y": [
          null
         ]
        },
        {
         "hoverinfo": "skip",
         "marker": {
          "color": "#7cb342",
          "line": {
           "color": "white",
           "width": 1
          },
          "size": 14
         },
         "mode": "markers",
         "name": "Policy",
         "type": "scatter",
         "x": [
          null
         ],
         "y": [
          null
         ]
        }
       ],
       "layout": {
        "height": 3500,
        "hovermode": "closest",
        "legend": {
         "orientation": "h",
         "x": 0.5,
         "xanchor": "center",
         "y": -0.05
        },
        "margin": {
         "b": 80,
         "l": 100,
         "r": 100,
         "t": 100
        },
        "paper_bgcolor": "#fafafa",
        "plot_bgcolor": "#ffffff",
        "shapes": [
         {
          "fillcolor": "rgba(94,53,177,0.05)",
          "layer": "below",
          "line": {
           "width": 0
          },
          "type": "rect",
          "x0": 0,
          "x1": 1,
          "xref": "paper",
          "y0": 0,
          "y1": 0.3,
          "yref": "y"
         },
         {
          "fillcolor": "rgba(0,137,123,0.05)",
          "layer": "below",
          "line": {
           "width": 0
          },
          "type": "rect",
          "x0": 0,
          "x1": 1,
          "xref": "paper",
          "y0": 0.3,
          "y1": 0.65,
          "yref": "y"
         },
         {
          "fillcolor": "rgba(194,24,91,0.05)",
          "layer": "below",
          "line": {
           "width": 0
          },
          "type": "rect",
          "x0": 0,
          "x1": 1,
          "xref": "paper",
          "y0": 0.65,
          "y1": 0.85,
          "yref": "y"
         },
         {
          "fillcolor": "rgba(251,140,0,0.05)",
          "layer": "below",
          "line": {
           "width": 0
          },
          "type": "rect",
          "x0": 0,
          "x1": 1,
          "xref": "paper",
          "y0": 0.85,
          "y1": 1,
          "yref": "y"
         }
        ],
        "showlegend": true,
        "template": {
         "data": {
          "bar": [
           {
            "error_x": {
             "color": "#2a3f5f"
            },
            "error_y": {
             "color": "#2a3f5f"
            },
            "marker": {
             "line": {
              "color": "#E5ECF6",
              "width": 0.5
             },
             "pattern": {
              "fillmode": "overlay",
              "size": 10,
              "solidity": 0.2
             }
            },
            "type": "bar"
           }
          ],
          "barpolar": [
           {
            "marker": {
             "line": {
              "color": "#E5ECF6",
              "width": 0.5
             },
             "pattern": {
              "fillmode": "overlay",
              "size": 10,
              "solidity": 0.2
             }
            },
            "type": "barpolar"
           }
          ],
          "carpet": [
           {
            "aaxis": {
             "endlinecolor": "#2a3f5f",
             "gridcolor": "white",
             "linecolor": "white",
             "minorgridcolor": "white",
             "startlinecolor": "#2a3f5f"
            },
            "baxis": {
             "endlinecolor": "#2a3f5f",
             "gridcolor": "white",
             "linecolor": "white",
             "minorgridcolor": "white",
             "startlinecolor": "#2a3f5f"
            },
            "type": "carpet"
           }
          ],
          "choropleth": [
           {
            "colorbar": {
             "outlinewidth": 0,
             "ticks": ""
            },
            "type": "choropleth"
           }
          ],
          "contour": [
           {
            "colorbar": {
             "outlinewidth": 0,
             "ticks": ""
            },
            "colorscale": [
             [
              0,
              "#0d0887"
             ],
             [
              0.1111111111111111,
              "#46039f"
             ],
             [
              0.2222222222222222,
              "#7201a8"
             ],
             [
              0.3333333333333333,
              "#9c179e"
             ],
             [
              0.4444444444444444,
              "#bd3786"
             ],
             [
              0.5555555555555556,
              "#d8576b"
             ],
             [
              0.6666666666666666,
              "#ed7953"
             ],
             [
              0.7777777777777778,
              "#fb9f3a"
             ],
             [
              0.8888888888888888,
              "#fdca26"
             ],
             [
              1,
              "#f0f921"
             ]
            ],
            "type": "contour"
           }
          ],
          "contourcarpet": [
           {
            "colorbar": {
             "outlinewidth": 0,
             "ticks": ""
            },
            "type": "contourcarpet"
           }
          ],
          "heatmap": [
           {
            "colorbar": {
             "outlinewidth": 0,
             "ticks": ""
            },
            "colorscale": [
             [
              0,
              "#0d0887"
             ],
             [
              0.1111111111111111,
              "#46039f"
             ],
             [
              0.2222222222222222,
              "#7201a8"
             ],
             [
              0.3333333333333333,
              "#9c179e"
             ],
             [
              0.4444444444444444,
              "#bd3786"
             ],
             [
              0.5555555555555556,
              "#d8576b"
             ],
             [
              0.6666666666666666,
              "#ed7953"
             ],
             [
              0.7777777777777778,
              "#fb9f3a"
             ],
             [
              0.8888888888888888,
              "#fdca26"
             ],
             [
              1,
              "#f0f921"
             ]
            ],
            "type": "heatmap"
           }
          ],
          "histogram": [
           {
            "marker": {
             "pattern": {
              "fillmode": "overlay",
              "size": 10,
              "solidity": 0.2
             }
            },
            "type": "histogram"
           }
          ],
          "histogram2d": [
           {
            "colorbar": {
             "outlinewidth": 0,
             "ticks": ""
            },
            "colorscale": [
             [
              0,
              "#0d0887"
             ],
             [
              0.1111111111111111,
              "#46039f"
             ],
             [
              0.2222222222222222,
              "#7201a8"
             ],
             [
              0.3333333333333333,
              "#9c179e"
             ],
             [
              0.4444444444444444,
              "#bd3786"
             ],
             [
              0.5555555555555556,
              "#d8576b"
             ],
             [
              0.6666666666666666,
              "#ed7953"
             ],
             [
              0.7777777777777778,
              "#fb9f3a"
             ],
             [
              0.8888888888888888,
              "#fdca26"
             ],
             [
              1,
              "#f0f921"
             ]
            ],
            "type": "histogram2d"
           }
          ],
          "histogram2dcontour": [
           {
            "colorbar": {
             "outlinewidth": 0,
             "ticks": ""
            },
            "colorscale": [
             [
              0,
              "#0d0887"
             ],
             [
              0.1111111111111111,
              "#46039f"
             ],
             [
              0.2222222222222222,
              "#7201a8"
             ],
             [
              0.3333333333333333,
              "#9c179e"
             ],
             [
              0.4444444444444444,
              "#bd3786"
             ],
             [
              0.5555555555555556,
              "#d8576b"
             ],
             [
              0.6666666666666666,
              "#ed7953"
             ],
             [
              0.7777777777777778,
              "#fb9f3a"
             ],
             [
              0.8888888888888888,
              "#fdca26"
             ],
             [
              1,
              "#f0f921"
             ]
            ],
            "type": "histogram2dcontour"
           }
          ],
          "mesh3d": [
           {
            "colorbar": {
             "outlinewidth": 0,
             "ticks": ""
            },
            "type": "mesh3d"
           }
          ],
          "parcoords": [
           {
            "line": {
             "colorbar": {
              "outlinewidth": 0,
              "ticks": ""
             }
            },
            "type": "parcoords"
           }
          ],
          "pie": [
           {
            "automargin": true,
            "type": "pie"
           }
          ],
          "scatter": [
           {
            "fillpattern": {
             "fillmode": "overlay",
             "size": 10,
             "solidity": 0.2
            },
            "type": "scatter"
           }
          ],
          "scatter3d": [
           {
            "line": {
             "colorbar": {
              "outlinewidth": 0,
              "ticks": ""
             }
            },
            "marker": {
             "colorbar": {
              "outlinewidth": 0,
              "ticks": ""
             }
            },
            "type": "scatter3d"
           }
          ],
          "scattercarpet": [
           {
            "marker": {
             "colorbar": {
              "outlinewidth": 0,
              "ticks": ""
             }
            },
            "type": "scattercarpet"
           }
          ],
          "scattergeo": [
           {
            "marker": {
             "colorbar": {
              "outlinewidth": 0,
              "ticks": ""
             }
            },
            "type": "scattergeo"
           }
          ],
          "scattergl": [
           {
            "marker": {
             "colorbar": {
              "outlinewidth": 0,
              "ticks": ""
             }
            },
            "type": "scattergl"
           }
          ],
          "scattermap": [
           {
            "marker": {
             "colorbar": {
              "outlinewidth": 0,
              "ticks": ""
             }
            },
            "type": "scattermap"
           }
          ],
          "scattermapbox": [
           {
            "marker": {
             "colorbar": {
              "outlinewidth": 0,
              "ticks": ""
             }
            },
            "type": "scattermapbox"
           }
          ],
          "scatterpolar": [
           {
            "marker": {
             "colorbar": {
              "outlinewidth": 0,
              "ticks": ""
             }
            },
            "type": "scatterpolar"
           }
          ],
          "scatterpolargl": [
           {
            "marker": {
             "colorbar": {
              "outlinewidth": 0,
              "ticks": ""
             }
            },
            "type": "scatterpolargl"
           }
          ],
          "scatterternary": [
           {
            "marker": {
             "colorbar": {
              "outlinewidth": 0,
              "ticks": ""
             }
            },
            "type": "scatterternary"
           }
          ],
          "surface": [
           {
            "colorbar": {
             "outlinewidth": 0,
             "ticks": ""
            },
            "colorscale": [
             [
              0,
              "#0d0887"
             ],
             [
              0.1111111111111111,
              "#46039f"
             ],
             [
              0.2222222222222222,
              "#7201a8"
             ],
             [
              0.3333333333333333,
              "#9c179e"
             ],
             [
              0.4444444444444444,
              "#bd3786"
             ],
             [
              0.5555555555555556,
              "#d8576b"
             ],
             [
              0.6666666666666666,
              "#ed7953"
             ],
             [
              0.7777777777777778,
              "#fb9f3a"
             ],
             [
              0.8888888888888888,
              "#fdca26"
             ],
             [
              1,
              "#f0f921"
             ]
            ],
            "type": "surface"
           }
          ],
          "table": [
           {
            "cells": {
             "fill": {
              "color": "#EBF0F8"
             },
             "line": {
              "color": "white"
             }
            },
            "header": {
             "fill": {
              "color": "#C8D4E3"
             },
             "line": {
              "color": "white"
             }
            },
            "type": "table"
           }
          ]
         },
         "layout": {
          "annotationdefaults": {
           "arrowcolor": "#2a3f5f",
           "arrowhead": 0,
           "arrowwidth": 1
          },
          "autotypenumbers": "strict",
          "coloraxis": {
           "colorbar": {
            "outlinewidth": 0,
            "ticks": ""
           }
          },
          "colorscale": {
           "diverging": [
            [
             0,
             "#8e0152"
            ],
            [
             0.1,
             "#c51b7d"
            ],
            [
             0.2,
             "#de77ae"
            ],
            [
             0.3,
             "#f1b6da"
            ],
            [
             0.4,
             "#fde0ef"
            ],
            [
             0.5,
             "#f7f7f7"
            ],
            [
             0.6,
             "#e6f5d0"
            ],
            [
             0.7,
             "#b8e186"
            ],
            [
             0.8,
             "#7fbc41"
            ],
            [
             0.9,
             "#4d9221"
            ],
            [
             1,
             "#276419"
            ]
           ],
           "sequential": [
            [
             0,
             "#0d0887"
            ],
            [
             0.1111111111111111,
             "#46039f"
            ],
            [
             0.2222222222222222,
             "#7201a8"
            ],
            [
             0.3333333333333333,
             "#9c179e"
            ],
            [
             0.4444444444444444,
             "#bd3786"
            ],
            [
             0.5555555555555556,
             "#d8576b"
            ],
            [
             0.6666666666666666,
             "#ed7953"
            ],
            [
             0.7777777777777778,
             "#fb9f3a"
            ],
            [
             0.8888888888888888,
             "#fdca26"
            ],
            [
             1,
             "#f0f921"
            ]
           ],
           "sequentialminus": [
            [
             0,
             "#0d0887"
            ],
            [
             0.1111111111111111,
             "#46039f"
            ],
            [
             0.2222222222222222,
             "#7201a8"
            ],
            [
             0.3333333333333333,
             "#9c179e"
            ],
            [
             0.4444444444444444,
             "#bd3786"
            ],
            [
             0.5555555555555556,
             "#d8576b"
            ],
            [
             0.6666666666666666,
             "#ed7953"
            ],
            [
             0.7777777777777778,
             "#fb9f3a"
            ],
            [
             0.8888888888888888,
             "#fdca26"
            ],
            [
             1,
             "#f0f921"
            ]
           ]
          },
          "colorway": [
           "#636efa",
           "#EF553B",
           "#00cc96",
           "#ab63fa",
           "#FFA15A",
           "#19d3f3",
           "#FF6692",
           "#B6E880",
           "#FF97FF",
           "#FECB52"
          ],
          "font": {
           "color": "#2a3f5f"
          },
          "geo": {
           "bgcolor": "white",
           "lakecolor": "white",
           "landcolor": "#E5ECF6",
           "showlakes": true,
           "showland": true,
           "subunitcolor": "white"
          },
          "hoverlabel": {
           "align": "left"
          },
          "hovermode": "closest",
          "mapbox": {
           "style": "light"
          },
          "paper_bgcolor": "white",
          "plot_bgcolor": "#E5ECF6",
          "polar": {
           "angularaxis": {
            "gridcolor": "white",
            "linecolor": "white",
            "ticks": ""
           },
           "bgcolor": "#E5ECF6",
           "radialaxis": {
            "gridcolor": "white",
            "linecolor": "white",
            "ticks": ""
           }
          },
          "scene": {
           "xaxis": {
            "backgroundcolor": "#E5ECF6",
            "gridcolor": "white",
            "gridwidth": 2,
            "linecolor": "white",
            "showbackground": true,
            "ticks": "",
            "zerolinecolor": "white"
           },
           "yaxis": {
            "backgroundcolor": "#E5ECF6",
            "gridcolor": "white",
            "gridwidth": 2,
            "linecolor": "white",
            "showbackground": true,
            "ticks": "",
            "zerolinecolor": "white"
           },
           "zaxis": {
            "backgroundcolor": "#E5ECF6",
            "gridcolor": "white",
            "gridwidth": 2,
            "linecolor": "white",
            "showbackground": true,
            "ticks": "",
            "zerolinecolor": "white"
           }
          },
          "shapedefaults": {
           "line": {
            "color": "#2a3f5f"
           }
          },
          "ternary": {
           "aaxis": {
            "gridcolor": "white",
            "linecolor": "white",
            "ticks": ""
           },
           "baxis": {
            "gridcolor": "white",
            "linecolor": "white",
            "ticks": ""
           },
           "bgcolor": "#E5ECF6",
           "caxis": {
            "gridcolor": "white",
            "linecolor": "white",
            "ticks": ""
           }
          },
          "title": {
           "x": 0.05
          },
          "xaxis": {
           "automargin": true,
           "gridcolor": "white",
           "linecolor": "white",
           "ticks": "",
           "title": {
            "standoff": 15
           },
           "zerolinecolor": "white",
           "zerolinewidth": 2
          },
          "yaxis": {
           "automargin": true,
           "gridcolor": "white",
           "linecolor": "white",
           "ticks": "",
           "title": {
            "standoff": 15
           },
           "zerolinecolor": "white",
           "zerolinewidth": 2
          }
         }
        },
        "title": {
         "font": {
          "color": "#1a237e",
          "size": 24
         },
         "text": "<b>Telugu Language Evolution: Vertical Timeline</b><br><sub>4500 BCE to 2008 CE | Hover for detailed information</sub>",
         "x": 0.5
        },
        "width": 1400,
        "xaxis": {
         "range": [
          0,
          1
         ],
         "visible": false
        },
        "yaxis": {
         "range": [
          -0.02,
          1.02
         ],
         "visible": false
        }
       }
      }
     },
     "metadata": {},
     "output_type": "display_data"
    }
   ],
   "source": [
    "# 6. Category legend\n",
    "for cat, col in category_colors.items():\n",
    "    fig.add_trace(go.Scatter(\n",
    "        x=[None], y=[None], mode='markers',\n",
    "        marker=dict(size=14, color=col, line=dict(color='white', width=1)),\n",
    "        name=cat, hoverinfo='skip'\n",
    "    ))\n",
    "\n",
    "# Layout\n",
    "fig.update_layout(\n",
    "    title=dict(\n",
    "        text=\"<b>Telugu Language Evolution: Vertical Timeline</b><br>\"\n",
    "             \"<sub>4500 BCE to 2008 CE | Hover for detailed information</sub>\",\n",
    "        x=0.5, font=dict(size=24, color='#1a237e')\n",
    "    ),\n",
    "    showlegend=True,\n",
    "    legend=dict(orientation=\"h\", y=-0.05, x=0.5, xanchor=\"center\"),\n",
    "    xaxis=dict(visible=False, range=[0, 1]),\n",
    "    yaxis=dict(visible=False, range=[-0.02, 1.02]),\n",
    "    width=1400, height=3500,\n",
    "    margin=dict(l=100, r=100, t=100, b=80),\n",
    "    paper_bgcolor='#fafafa',\n",
    "    plot_bgcolor='#ffffff',\n",
    "    shapes=shapes,\n",
    "    hovermode='closest'\n",
    ")\n",
    "\n",
    "fig.write_html(\"telugu_vertical_timeline.html\", include_plotlyjs=\"cdn\")\n",
    "fig.show()\n"
   ]
  },
  {
   "cell_type": "code",
   "execution_count": null,
   "id": "0d6f3e13",
   "metadata": {},
   "outputs": [],
   "source": []
  },
  {
   "cell_type": "code",
   "execution_count": null,
   "id": "eeddf8bc",
   "metadata": {},
   "outputs": [],
   "source": []
  },
  {
   "cell_type": "code",
   "execution_count": null,
   "id": "cc7fc639",
   "metadata": {},
   "outputs": [],
   "source": []
  }
 ],
 "metadata": {
  "kernelspec": {
   "display_name": "telugu",
   "language": "python",
   "name": "python3"
  },
  "language_info": {
   "codemirror_mode": {
    "name": "ipython",
    "version": 3
   },
   "file_extension": ".py",
   "mimetype": "text/x-python",
   "name": "python",
   "nbconvert_exporter": "python",
   "pygments_lexer": "ipython3",
   "version": "3.12.11"
  }
 },
 "nbformat": 4,
 "nbformat_minor": 5
}
